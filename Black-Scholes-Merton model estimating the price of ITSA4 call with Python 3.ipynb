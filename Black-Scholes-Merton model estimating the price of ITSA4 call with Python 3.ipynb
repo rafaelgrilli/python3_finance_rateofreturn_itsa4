{
 "cells": [
  {
   "cell_type": "markdown",
   "metadata": {},
   "source": [
    "# with this code I estimate the price of an European call option on ITSA4, maturity of 1 year. I start by calculating d1 and d2, inputs for the model. Historical data of ITSA4 prices was downloaded from yahoofinance.com."
   ]
  },
  {
   "cell_type": "code",
   "execution_count": 1,
   "metadata": {},
   "outputs": [],
   "source": [
    "import numpy as np\n",
    "import pandas as pd\n",
    "from pandas_datareader import data as wb\n",
    "from scipy.stats import norm"
   ]
  },
  {
   "cell_type": "code",
   "execution_count": 3,
   "metadata": {},
   "outputs": [],
   "source": [
    "data = pd.read_csv('ITSA4.csv', index_col='Date')"
   ]
  },
  {
   "cell_type": "code",
   "execution_count": 4,
   "metadata": {},
   "outputs": [
    {
     "name": "stdout",
     "output_type": "stream",
     "text": [
      "<class 'pandas.core.frame.DataFrame'>\n",
      "Index: 1244 entries, 6/22/15 to 6/19/20\n",
      "Data columns (total 1 columns):\n",
      "ITSA4    1241 non-null float64\n",
      "dtypes: float64(1)\n",
      "memory usage: 19.4+ KB\n"
     ]
    }
   ],
   "source": [
    "data.info()"
   ]
  },
  {
   "cell_type": "code",
   "execution_count": 5,
   "metadata": {},
   "outputs": [
    {
     "data": {
      "text/html": [
       "<div>\n",
       "<style scoped>\n",
       "    .dataframe tbody tr th:only-of-type {\n",
       "        vertical-align: middle;\n",
       "    }\n",
       "\n",
       "    .dataframe tbody tr th {\n",
       "        vertical-align: top;\n",
       "    }\n",
       "\n",
       "    .dataframe thead th {\n",
       "        text-align: right;\n",
       "    }\n",
       "</style>\n",
       "<table border=\"1\" class=\"dataframe\">\n",
       "  <thead>\n",
       "    <tr style=\"text-align: right;\">\n",
       "      <th></th>\n",
       "      <th>ITSA4</th>\n",
       "    </tr>\n",
       "    <tr>\n",
       "      <th>Date</th>\n",
       "      <th></th>\n",
       "    </tr>\n",
       "  </thead>\n",
       "  <tbody>\n",
       "    <tr>\n",
       "      <td>6/22/15</td>\n",
       "      <td>5.233504</td>\n",
       "    </tr>\n",
       "    <tr>\n",
       "      <td>6/23/15</td>\n",
       "      <td>5.233504</td>\n",
       "    </tr>\n",
       "    <tr>\n",
       "      <td>6/24/15</td>\n",
       "      <td>5.221835</td>\n",
       "    </tr>\n",
       "    <tr>\n",
       "      <td>6/25/15</td>\n",
       "      <td>5.134320</td>\n",
       "    </tr>\n",
       "    <tr>\n",
       "      <td>6/26/15</td>\n",
       "      <td>5.245173</td>\n",
       "    </tr>\n",
       "  </tbody>\n",
       "</table>\n",
       "</div>"
      ],
      "text/plain": [
       "            ITSA4\n",
       "Date             \n",
       "6/22/15  5.233504\n",
       "6/23/15  5.233504\n",
       "6/24/15  5.221835\n",
       "6/25/15  5.134320\n",
       "6/26/15  5.245173"
      ]
     },
     "execution_count": 5,
     "metadata": {},
     "output_type": "execute_result"
    }
   ],
   "source": [
    "data.head()"
   ]
  },
  {
   "cell_type": "code",
   "execution_count": 27,
   "metadata": {},
   "outputs": [],
   "source": [
    "def d1(S, K, r, stdev, T): \n",
    "    return (np.log(S / K) + (r + stdev ** 2 / 2) * T) / (stdev * np.sqrt(T))\n",
    "\n",
    "def d2(S, K, r, stdev, T):\n",
    "    return (np.log(S / K) + (r - stdev ** 2 / 2) * T) / (stdev * np.sqrt(T))\n",
    "\n",
    "def BSM(S, K, r, stdev, T): \n",
    "    return (S * norm.cdf(d1(S, K, r, stdev, T))) - (K * np.exp(-r * T) * norm.cdf(d2(S, K, r, stdev, T)))"
   ]
  },
  {
   "cell_type": "code",
   "execution_count": 28,
   "metadata": {},
   "outputs": [
    {
     "data": {
      "text/plain": [
       "ITSA4    10.41\n",
       "Name: 6/19/20, dtype: float64"
      ]
     },
     "execution_count": 28,
     "metadata": {},
     "output_type": "execute_result"
    }
   ],
   "source": [
    "S = data.iloc[-1]\n",
    "S"
   ]
  },
  {
   "cell_type": "code",
   "execution_count": 29,
   "metadata": {},
   "outputs": [
    {
     "data": {
      "text/html": [
       "<div>\n",
       "<style scoped>\n",
       "    .dataframe tbody tr th:only-of-type {\n",
       "        vertical-align: middle;\n",
       "    }\n",
       "\n",
       "    .dataframe tbody tr th {\n",
       "        vertical-align: top;\n",
       "    }\n",
       "\n",
       "    .dataframe thead th {\n",
       "        text-align: right;\n",
       "    }\n",
       "</style>\n",
       "<table border=\"1\" class=\"dataframe\">\n",
       "  <thead>\n",
       "    <tr style=\"text-align: right;\">\n",
       "      <th></th>\n",
       "      <th>ITSA4</th>\n",
       "    </tr>\n",
       "    <tr>\n",
       "      <th>Date</th>\n",
       "      <th></th>\n",
       "    </tr>\n",
       "  </thead>\n",
       "  <tbody>\n",
       "    <tr>\n",
       "      <td>6/22/15</td>\n",
       "      <td>NaN</td>\n",
       "    </tr>\n",
       "    <tr>\n",
       "      <td>6/23/15</td>\n",
       "      <td>0.000000</td>\n",
       "    </tr>\n",
       "    <tr>\n",
       "      <td>6/24/15</td>\n",
       "      <td>-0.002232</td>\n",
       "    </tr>\n",
       "    <tr>\n",
       "      <td>6/25/15</td>\n",
       "      <td>-0.016901</td>\n",
       "    </tr>\n",
       "    <tr>\n",
       "      <td>6/26/15</td>\n",
       "      <td>0.021361</td>\n",
       "    </tr>\n",
       "    <tr>\n",
       "      <td>...</td>\n",
       "      <td>...</td>\n",
       "    </tr>\n",
       "    <tr>\n",
       "      <td>6/15/20</td>\n",
       "      <td>-0.023774</td>\n",
       "    </tr>\n",
       "    <tr>\n",
       "      <td>6/16/20</td>\n",
       "      <td>0.020705</td>\n",
       "    </tr>\n",
       "    <tr>\n",
       "      <td>6/17/20</td>\n",
       "      <td>0.017268</td>\n",
       "    </tr>\n",
       "    <tr>\n",
       "      <td>6/18/20</td>\n",
       "      <td>0.031717</td>\n",
       "    </tr>\n",
       "    <tr>\n",
       "      <td>6/19/20</td>\n",
       "      <td>0.015489</td>\n",
       "    </tr>\n",
       "  </tbody>\n",
       "</table>\n",
       "<p>1244 rows × 1 columns</p>\n",
       "</div>"
      ],
      "text/plain": [
       "            ITSA4\n",
       "Date             \n",
       "6/22/15       NaN\n",
       "6/23/15  0.000000\n",
       "6/24/15 -0.002232\n",
       "6/25/15 -0.016901\n",
       "6/26/15  0.021361\n",
       "...           ...\n",
       "6/15/20 -0.023774\n",
       "6/16/20  0.020705\n",
       "6/17/20  0.017268\n",
       "6/18/20  0.031717\n",
       "6/19/20  0.015489\n",
       "\n",
       "[1244 rows x 1 columns]"
      ]
     },
     "execution_count": 29,
     "metadata": {},
     "output_type": "execute_result"
    }
   ],
   "source": [
    "ITSA4_log_ret = np.log(1 + data.pct_change())\n",
    "ITSA4_log_ret"
   ]
  },
  {
   "cell_type": "code",
   "execution_count": 30,
   "metadata": {},
   "outputs": [
    {
     "data": {
      "text/plain": [
       "ITSA4    0.326442\n",
       "dtype: float64"
      ]
     },
     "execution_count": 30,
     "metadata": {},
     "output_type": "execute_result"
    }
   ],
   "source": [
    "ITSA4_stdev = ITSA4_log_ret.std() * 250 ** 0.5\n",
    "ITSA4_stdev"
   ]
  },
  {
   "cell_type": "markdown",
   "metadata": {},
   "source": [
    "# risk-free is defined as Brazil 10Y Bond Yield, 6.92% at 06/24/2020. Strike is 12 Brazilian reais. "
   ]
  },
  {
   "cell_type": "code",
   "execution_count": 31,
   "metadata": {},
   "outputs": [],
   "source": [
    "r = 0.0692\n",
    "K = 12.0\n",
    "T = 1"
   ]
  },
  {
   "cell_type": "code",
   "execution_count": 32,
   "metadata": {},
   "outputs": [
    {
     "data": {
      "text/plain": [
       "ITSA4    10.41\n",
       "Name: 6/19/20, dtype: float64"
      ]
     },
     "execution_count": 32,
     "metadata": {},
     "output_type": "execute_result"
    }
   ],
   "source": [
    "S = data.iloc[-1]\n",
    "S"
   ]
  },
  {
   "cell_type": "code",
   "execution_count": 33,
   "metadata": {},
   "outputs": [
    {
     "data": {
      "text/plain": [
       "ITSA4   -0.060218\n",
       "dtype: float64"
      ]
     },
     "execution_count": 33,
     "metadata": {},
     "output_type": "execute_result"
    }
   ],
   "source": [
    "d1(S, K, r, ITSA4_stdev, T)"
   ]
  },
  {
   "cell_type": "code",
   "execution_count": 34,
   "metadata": {},
   "outputs": [
    {
     "data": {
      "text/plain": [
       "ITSA4   -0.38666\n",
       "dtype: float64"
      ]
     },
     "execution_count": 34,
     "metadata": {},
     "output_type": "execute_result"
    }
   ],
   "source": [
    "d2(S, K, r, ITSA4_stdev, T)"
   ]
  },
  {
   "cell_type": "code",
   "execution_count": 35,
   "metadata": {},
   "outputs": [
    {
     "data": {
      "text/plain": [
       "ITSA4    1.041431\n",
       "Name: 6/19/20, dtype: float64"
      ]
     },
     "execution_count": 35,
     "metadata": {},
     "output_type": "execute_result"
    }
   ],
   "source": [
    "BSM(S, K, r, ITSA4_stdev, T)"
   ]
  }
 ],
 "metadata": {
  "kernelspec": {
   "display_name": "Python 3",
   "language": "python",
   "name": "python3"
  },
  "language_info": {
   "codemirror_mode": {
    "name": "ipython",
    "version": 3
   },
   "file_extension": ".py",
   "mimetype": "text/x-python",
   "name": "python",
   "nbconvert_exporter": "python",
   "pygments_lexer": "ipython3",
   "version": "3.7.4"
  }
 },
 "nbformat": 4,
 "nbformat_minor": 2
}
