{
 "cells": [
  {
   "cell_type": "markdown",
   "metadata": {},
   "source": [
    "# With this simple Python code, I will calculate the risk associated with 5 securities, all of them traded in Sao Paulo Stock Exchange, Brazil. I randomly picked the securities. The first thing that I have done is downloading historical data for Itausa (ticker ITSA4), Gerdau (GOAU4), Embraer (Embr3), Petrobras (PETR4), and CPFL, (CPFE3). After that, we created a repository for the downloaded data (we could have also used the online api provided by YahooFinance. I use the Anaconda Navigator, which is a pretty complete package for analysing financial or any orther type of data. The code will be written on next lines, hope it can be repplied by anyone willing to measure returns of any stock or any other matter. "
   ]
  },
  {
   "cell_type": "code",
   "execution_count": 1,
   "metadata": {},
   "outputs": [],
   "source": [
    "import numpy as np\n",
    "import pandas as pd\n",
    "from pandas_datareader import data as wb\n",
    "import matplotlib.pyplot as plt"
   ]
  },
  {
   "cell_type": "code",
   "execution_count": 2,
   "metadata": {},
   "outputs": [],
   "source": [
    "data = pd.read_csv('Pfolio_stocks_br.csv', index_col='Date')"
   ]
  },
  {
   "cell_type": "code",
   "execution_count": 3,
   "metadata": {},
   "outputs": [
    {
     "name": "stdout",
     "output_type": "stream",
     "text": [
      "<class 'pandas.core.frame.DataFrame'>\n",
      "Index: 1244 entries, 6/22/15 to 6/19/20\n",
      "Data columns (total 5 columns):\n",
      "ITSA4    1241 non-null float64\n",
      "GOAU4    1241 non-null float64\n",
      "EMBR3    1241 non-null float64\n",
      "PETR4    1241 non-null float64\n",
      "CPFE3    1241 non-null float64\n",
      "dtypes: float64(5)\n",
      "memory usage: 58.3+ KB\n"
     ]
    }
   ],
   "source": [
    "data.info()"
   ]
  },
  {
   "cell_type": "code",
   "execution_count": 4,
   "metadata": {},
   "outputs": [
    {
     "data": {
      "text/html": [
       "<div>\n",
       "<style scoped>\n",
       "    .dataframe tbody tr th:only-of-type {\n",
       "        vertical-align: middle;\n",
       "    }\n",
       "\n",
       "    .dataframe tbody tr th {\n",
       "        vertical-align: top;\n",
       "    }\n",
       "\n",
       "    .dataframe thead th {\n",
       "        text-align: right;\n",
       "    }\n",
       "</style>\n",
       "<table border=\"1\" class=\"dataframe\">\n",
       "  <thead>\n",
       "    <tr style=\"text-align: right;\">\n",
       "      <th></th>\n",
       "      <th>ITSA4</th>\n",
       "      <th>GOAU4</th>\n",
       "      <th>EMBR3</th>\n",
       "      <th>PETR4</th>\n",
       "      <th>CPFE3</th>\n",
       "    </tr>\n",
       "    <tr>\n",
       "      <th>Date</th>\n",
       "      <th></th>\n",
       "      <th></th>\n",
       "      <th></th>\n",
       "      <th></th>\n",
       "      <th></th>\n",
       "    </tr>\n",
       "  </thead>\n",
       "  <tbody>\n",
       "    <tr>\n",
       "      <td>6/22/15</td>\n",
       "      <td>5.233504</td>\n",
       "      <td>6.552751</td>\n",
       "      <td>23.188370</td>\n",
       "      <td>12.218085</td>\n",
       "      <td>17.112970</td>\n",
       "    </tr>\n",
       "    <tr>\n",
       "      <td>6/23/15</td>\n",
       "      <td>5.233504</td>\n",
       "      <td>6.468259</td>\n",
       "      <td>23.043196</td>\n",
       "      <td>12.032542</td>\n",
       "      <td>16.955807</td>\n",
       "    </tr>\n",
       "    <tr>\n",
       "      <td>6/24/15</td>\n",
       "      <td>5.221835</td>\n",
       "      <td>6.271112</td>\n",
       "      <td>22.694790</td>\n",
       "      <td>12.264473</td>\n",
       "      <td>16.789963</td>\n",
       "    </tr>\n",
       "    <tr>\n",
       "      <td>6/25/15</td>\n",
       "      <td>5.134320</td>\n",
       "      <td>6.196010</td>\n",
       "      <td>22.646400</td>\n",
       "      <td>11.689284</td>\n",
       "      <td>16.274797</td>\n",
       "    </tr>\n",
       "    <tr>\n",
       "      <td>6/26/15</td>\n",
       "      <td>5.245173</td>\n",
       "      <td>6.318053</td>\n",
       "      <td>23.178694</td>\n",
       "      <td>12.255195</td>\n",
       "      <td>16.973259</td>\n",
       "    </tr>\n",
       "  </tbody>\n",
       "</table>\n",
       "</div>"
      ],
      "text/plain": [
       "            ITSA4     GOAU4      EMBR3      PETR4      CPFE3\n",
       "Date                                                        \n",
       "6/22/15  5.233504  6.552751  23.188370  12.218085  17.112970\n",
       "6/23/15  5.233504  6.468259  23.043196  12.032542  16.955807\n",
       "6/24/15  5.221835  6.271112  22.694790  12.264473  16.789963\n",
       "6/25/15  5.134320  6.196010  22.646400  11.689284  16.274797\n",
       "6/26/15  5.245173  6.318053  23.178694  12.255195  16.973259"
      ]
     },
     "execution_count": 4,
     "metadata": {},
     "output_type": "execute_result"
    }
   ],
   "source": [
    "data.head()"
   ]
  },
  {
   "cell_type": "code",
   "execution_count": 5,
   "metadata": {},
   "outputs": [
    {
     "data": {
      "text/html": [
       "<div>\n",
       "<style scoped>\n",
       "    .dataframe tbody tr th:only-of-type {\n",
       "        vertical-align: middle;\n",
       "    }\n",
       "\n",
       "    .dataframe tbody tr th {\n",
       "        vertical-align: top;\n",
       "    }\n",
       "\n",
       "    .dataframe thead th {\n",
       "        text-align: right;\n",
       "    }\n",
       "</style>\n",
       "<table border=\"1\" class=\"dataframe\">\n",
       "  <thead>\n",
       "    <tr style=\"text-align: right;\">\n",
       "      <th></th>\n",
       "      <th>ITSA4</th>\n",
       "      <th>GOAU4</th>\n",
       "      <th>EMBR3</th>\n",
       "      <th>PETR4</th>\n",
       "      <th>CPFE3</th>\n",
       "    </tr>\n",
       "    <tr>\n",
       "      <th>Date</th>\n",
       "      <th></th>\n",
       "      <th></th>\n",
       "      <th></th>\n",
       "      <th></th>\n",
       "      <th></th>\n",
       "    </tr>\n",
       "  </thead>\n",
       "  <tbody>\n",
       "    <tr>\n",
       "      <td>6/15/20</td>\n",
       "      <td>9.56</td>\n",
       "      <td>6.42</td>\n",
       "      <td>8.58</td>\n",
       "      <td>20.700001</td>\n",
       "      <td>31.600000</td>\n",
       "    </tr>\n",
       "    <tr>\n",
       "      <td>6/16/20</td>\n",
       "      <td>9.76</td>\n",
       "      <td>6.89</td>\n",
       "      <td>9.05</td>\n",
       "      <td>21.370001</td>\n",
       "      <td>31.170000</td>\n",
       "    </tr>\n",
       "    <tr>\n",
       "      <td>6/17/20</td>\n",
       "      <td>9.93</td>\n",
       "      <td>6.85</td>\n",
       "      <td>8.95</td>\n",
       "      <td>21.440001</td>\n",
       "      <td>31.959999</td>\n",
       "    </tr>\n",
       "    <tr>\n",
       "      <td>6/18/20</td>\n",
       "      <td>10.25</td>\n",
       "      <td>7.02</td>\n",
       "      <td>8.87</td>\n",
       "      <td>21.600000</td>\n",
       "      <td>31.690001</td>\n",
       "    </tr>\n",
       "    <tr>\n",
       "      <td>6/19/20</td>\n",
       "      <td>10.41</td>\n",
       "      <td>7.06</td>\n",
       "      <td>8.76</td>\n",
       "      <td>21.469999</td>\n",
       "      <td>32.180000</td>\n",
       "    </tr>\n",
       "  </tbody>\n",
       "</table>\n",
       "</div>"
      ],
      "text/plain": [
       "         ITSA4  GOAU4  EMBR3      PETR4      CPFE3\n",
       "Date                                              \n",
       "6/15/20   9.56   6.42   8.58  20.700001  31.600000\n",
       "6/16/20   9.76   6.89   9.05  21.370001  31.170000\n",
       "6/17/20   9.93   6.85   8.95  21.440001  31.959999\n",
       "6/18/20  10.25   7.02   8.87  21.600000  31.690001\n",
       "6/19/20  10.41   7.06   8.76  21.469999  32.180000"
      ]
     },
     "execution_count": 5,
     "metadata": {},
     "output_type": "execute_result"
    }
   ],
   "source": [
    "data.tail()"
   ]
  },
  {
   "cell_type": "code",
   "execution_count": 6,
   "metadata": {},
   "outputs": [
    {
     "data": {
      "text/html": [
       "<div>\n",
       "<style scoped>\n",
       "    .dataframe tbody tr th:only-of-type {\n",
       "        vertical-align: middle;\n",
       "    }\n",
       "\n",
       "    .dataframe tbody tr th {\n",
       "        vertical-align: top;\n",
       "    }\n",
       "\n",
       "    .dataframe thead th {\n",
       "        text-align: right;\n",
       "    }\n",
       "</style>\n",
       "<table border=\"1\" class=\"dataframe\">\n",
       "  <thead>\n",
       "    <tr style=\"text-align: right;\">\n",
       "      <th></th>\n",
       "      <th>ITSA4</th>\n",
       "      <th>GOAU4</th>\n",
       "      <th>EMBR3</th>\n",
       "      <th>PETR4</th>\n",
       "      <th>CPFE3</th>\n",
       "    </tr>\n",
       "    <tr>\n",
       "      <th>Date</th>\n",
       "      <th></th>\n",
       "      <th></th>\n",
       "      <th></th>\n",
       "      <th></th>\n",
       "      <th></th>\n",
       "    </tr>\n",
       "  </thead>\n",
       "  <tbody>\n",
       "    <tr>\n",
       "      <td>6/22/15</td>\n",
       "      <td>NaN</td>\n",
       "      <td>NaN</td>\n",
       "      <td>NaN</td>\n",
       "      <td>NaN</td>\n",
       "      <td>NaN</td>\n",
       "    </tr>\n",
       "    <tr>\n",
       "      <td>6/23/15</td>\n",
       "      <td>0.000000</td>\n",
       "      <td>-0.012978</td>\n",
       "      <td>-0.006280</td>\n",
       "      <td>-0.015302</td>\n",
       "      <td>-0.009226</td>\n",
       "    </tr>\n",
       "    <tr>\n",
       "      <td>6/24/15</td>\n",
       "      <td>-0.002232</td>\n",
       "      <td>-0.030953</td>\n",
       "      <td>-0.015235</td>\n",
       "      <td>0.019092</td>\n",
       "      <td>-0.009829</td>\n",
       "    </tr>\n",
       "    <tr>\n",
       "      <td>6/25/15</td>\n",
       "      <td>-0.016901</td>\n",
       "      <td>-0.012048</td>\n",
       "      <td>-0.002134</td>\n",
       "      <td>-0.048034</td>\n",
       "      <td>-0.031164</td>\n",
       "    </tr>\n",
       "    <tr>\n",
       "      <td>6/26/15</td>\n",
       "      <td>0.021361</td>\n",
       "      <td>0.019506</td>\n",
       "      <td>0.023233</td>\n",
       "      <td>0.047277</td>\n",
       "      <td>0.042021</td>\n",
       "    </tr>\n",
       "    <tr>\n",
       "      <td>...</td>\n",
       "      <td>...</td>\n",
       "      <td>...</td>\n",
       "      <td>...</td>\n",
       "      <td>...</td>\n",
       "      <td>...</td>\n",
       "    </tr>\n",
       "    <tr>\n",
       "      <td>6/15/20</td>\n",
       "      <td>-0.023774</td>\n",
       "      <td>-0.013921</td>\n",
       "      <td>-0.027588</td>\n",
       "      <td>0.004843</td>\n",
       "      <td>-0.022220</td>\n",
       "    </tr>\n",
       "    <tr>\n",
       "      <td>6/16/20</td>\n",
       "      <td>0.020705</td>\n",
       "      <td>0.070653</td>\n",
       "      <td>0.053331</td>\n",
       "      <td>0.031854</td>\n",
       "      <td>-0.013701</td>\n",
       "    </tr>\n",
       "    <tr>\n",
       "      <td>6/17/20</td>\n",
       "      <td>0.017268</td>\n",
       "      <td>-0.005822</td>\n",
       "      <td>-0.011111</td>\n",
       "      <td>0.003270</td>\n",
       "      <td>0.025029</td>\n",
       "    </tr>\n",
       "    <tr>\n",
       "      <td>6/18/20</td>\n",
       "      <td>0.031717</td>\n",
       "      <td>0.024515</td>\n",
       "      <td>-0.008979</td>\n",
       "      <td>0.007435</td>\n",
       "      <td>-0.008484</td>\n",
       "    </tr>\n",
       "    <tr>\n",
       "      <td>6/19/20</td>\n",
       "      <td>0.015489</td>\n",
       "      <td>0.005682</td>\n",
       "      <td>-0.012479</td>\n",
       "      <td>-0.006037</td>\n",
       "      <td>0.015344</td>\n",
       "    </tr>\n",
       "  </tbody>\n",
       "</table>\n",
       "<p>1244 rows × 5 columns</p>\n",
       "</div>"
      ],
      "text/plain": [
       "            ITSA4     GOAU4     EMBR3     PETR4     CPFE3\n",
       "Date                                                     \n",
       "6/22/15       NaN       NaN       NaN       NaN       NaN\n",
       "6/23/15  0.000000 -0.012978 -0.006280 -0.015302 -0.009226\n",
       "6/24/15 -0.002232 -0.030953 -0.015235  0.019092 -0.009829\n",
       "6/25/15 -0.016901 -0.012048 -0.002134 -0.048034 -0.031164\n",
       "6/26/15  0.021361  0.019506  0.023233  0.047277  0.042021\n",
       "...           ...       ...       ...       ...       ...\n",
       "6/15/20 -0.023774 -0.013921 -0.027588  0.004843 -0.022220\n",
       "6/16/20  0.020705  0.070653  0.053331  0.031854 -0.013701\n",
       "6/17/20  0.017268 -0.005822 -0.011111  0.003270  0.025029\n",
       "6/18/20  0.031717  0.024515 -0.008979  0.007435 -0.008484\n",
       "6/19/20  0.015489  0.005682 -0.012479 -0.006037  0.015344\n",
       "\n",
       "[1244 rows x 5 columns]"
      ]
     },
     "execution_count": 6,
     "metadata": {},
     "output_type": "execute_result"
    }
   ],
   "source": [
    "returns = np.log(data / data.shift(1))\n",
    "\n",
    "returns"
   ]
  },
  {
   "cell_type": "markdown",
   "metadata": {},
   "source": [
    "# the standard deviation is widely used in financial markets to measure the risk of a security, and that's what we estimate for each security on the next lines of code, daily and annualized. we work with the assumption of 250 trading days. "
   ]
  },
  {
   "cell_type": "code",
   "execution_count": 7,
   "metadata": {},
   "outputs": [
    {
     "data": {
      "text/plain": [
       "0.020561171627555275"
      ]
     },
     "execution_count": 7,
     "metadata": {},
     "output_type": "execute_result"
    }
   ],
   "source": [
    "returns['ITSA4'].std()"
   ]
  },
  {
   "cell_type": "code",
   "execution_count": 8,
   "metadata": {},
   "outputs": [
    {
     "data": {
      "text/plain": [
       "0.3251006685235298"
      ]
     },
     "execution_count": 8,
     "metadata": {},
     "output_type": "execute_result"
    }
   ],
   "source": [
    "returns['ITSA4'].std() * 250 ** 0.5"
   ]
  },
  {
   "cell_type": "code",
   "execution_count": 9,
   "metadata": {},
   "outputs": [
    {
     "data": {
      "text/plain": [
       "0.03786342981791886"
      ]
     },
     "execution_count": 9,
     "metadata": {},
     "output_type": "execute_result"
    }
   ],
   "source": [
    "returns['GOAU4'].std()"
   ]
  },
  {
   "cell_type": "code",
   "execution_count": 10,
   "metadata": {},
   "outputs": [
    {
     "data": {
      "text/plain": [
       "0.5986733912527905"
      ]
     },
     "execution_count": 10,
     "metadata": {},
     "output_type": "execute_result"
    }
   ],
   "source": [
    "returns['GOAU4'].std() * 250 ** 0.5"
   ]
  },
  {
   "cell_type": "code",
   "execution_count": 12,
   "metadata": {},
   "outputs": [
    {
     "data": {
      "text/plain": [
       "0.028076128229222508"
      ]
     },
     "execution_count": 12,
     "metadata": {},
     "output_type": "execute_result"
    }
   ],
   "source": [
    "returns['EMBR3'].std() "
   ]
  },
  {
   "cell_type": "code",
   "execution_count": 13,
   "metadata": {},
   "outputs": [
    {
     "data": {
      "text/plain": [
       "0.4439225654164657"
      ]
     },
     "execution_count": 13,
     "metadata": {},
     "output_type": "execute_result"
    }
   ],
   "source": [
    "returns['EMBR3'].std() * 250 ** 0.5"
   ]
  },
  {
   "cell_type": "code",
   "execution_count": 16,
   "metadata": {},
   "outputs": [
    {
     "data": {
      "text/plain": [
       "0.03452919595949867"
      ]
     },
     "execution_count": 16,
     "metadata": {},
     "output_type": "execute_result"
    }
   ],
   "source": [
    "returns['PETR4'].std() "
   ]
  },
  {
   "cell_type": "code",
   "execution_count": 17,
   "metadata": {},
   "outputs": [
    {
     "data": {
      "text/plain": [
       "0.5459545250314944"
      ]
     },
     "execution_count": 17,
     "metadata": {},
     "output_type": "execute_result"
    }
   ],
   "source": [
    "returns['PETR4'].std() * 250 ** 0.5"
   ]
  },
  {
   "cell_type": "code",
   "execution_count": 18,
   "metadata": {},
   "outputs": [
    {
     "data": {
      "text/plain": [
       "0.01844519374851562"
      ]
     },
     "execution_count": 18,
     "metadata": {},
     "output_type": "execute_result"
    }
   ],
   "source": [
    "returns['CPFE3'].std() "
   ]
  },
  {
   "cell_type": "code",
   "execution_count": 19,
   "metadata": {},
   "outputs": [
    {
     "data": {
      "text/plain": [
       "0.2916441206420419"
      ]
     },
     "execution_count": 19,
     "metadata": {},
     "output_type": "execute_result"
    }
   ],
   "source": [
    "returns['CPFE3'].std() * 250 ** 0.5"
   ]
  },
  {
   "cell_type": "code",
   "execution_count": null,
   "metadata": {},
   "outputs": [],
   "source": []
  },
  {
   "cell_type": "code",
   "execution_count": null,
   "metadata": {},
   "outputs": [],
   "source": []
  },
  {
   "cell_type": "code",
   "execution_count": null,
   "metadata": {},
   "outputs": [],
   "source": []
  },
  {
   "cell_type": "code",
   "execution_count": null,
   "metadata": {},
   "outputs": [],
   "source": []
  },
  {
   "cell_type": "code",
   "execution_count": null,
   "metadata": {},
   "outputs": [],
   "source": []
  },
  {
   "cell_type": "code",
   "execution_count": null,
   "metadata": {},
   "outputs": [],
   "source": []
  },
  {
   "cell_type": "code",
   "execution_count": null,
   "metadata": {},
   "outputs": [],
   "source": []
  },
  {
   "cell_type": "code",
   "execution_count": null,
   "metadata": {},
   "outputs": [],
   "source": []
  },
  {
   "cell_type": "code",
   "execution_count": null,
   "metadata": {},
   "outputs": [],
   "source": []
  },
  {
   "cell_type": "code",
   "execution_count": null,
   "metadata": {},
   "outputs": [],
   "source": []
  },
  {
   "cell_type": "code",
   "execution_count": null,
   "metadata": {},
   "outputs": [],
   "source": []
  },
  {
   "cell_type": "code",
   "execution_count": null,
   "metadata": {},
   "outputs": [],
   "source": []
  },
  {
   "cell_type": "code",
   "execution_count": null,
   "metadata": {},
   "outputs": [],
   "source": []
  },
  {
   "cell_type": "code",
   "execution_count": null,
   "metadata": {},
   "outputs": [],
   "source": []
  },
  {
   "cell_type": "code",
   "execution_count": null,
   "metadata": {},
   "outputs": [],
   "source": []
  },
  {
   "cell_type": "code",
   "execution_count": null,
   "metadata": {},
   "outputs": [],
   "source": []
  },
  {
   "cell_type": "code",
   "execution_count": null,
   "metadata": {},
   "outputs": [],
   "source": []
  },
  {
   "cell_type": "code",
   "execution_count": null,
   "metadata": {},
   "outputs": [],
   "source": []
  }
 ],
 "metadata": {
  "kernelspec": {
   "display_name": "Python 3",
   "language": "python",
   "name": "python3"
  },
  "language_info": {
   "codemirror_mode": {
    "name": "ipython",
    "version": 3
   },
   "file_extension": ".py",
   "mimetype": "text/x-python",
   "name": "python",
   "nbconvert_exporter": "python",
   "pygments_lexer": "ipython3",
   "version": "3.7.4"
  }
 },
 "nbformat": 4,
 "nbformat_minor": 2
}
