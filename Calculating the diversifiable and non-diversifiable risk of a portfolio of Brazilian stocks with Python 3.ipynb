{
 "cells": [
  {
   "cell_type": "code",
   "execution_count": 1,
   "metadata": {},
   "outputs": [],
   "source": [
    "import numpy as np\n",
    "import pandas as pd\n",
    "from pandas_datareader import data as wb\n",
    "import matplotlib.pyplot as plt "
   ]
  },
  {
   "cell_type": "code",
   "execution_count": 9,
   "metadata": {},
   "outputs": [],
   "source": [
    "sec_data = pd.read_csv('Pfolio_stocks_br.csv', index_col='Date')"
   ]
  },
  {
   "cell_type": "code",
   "execution_count": 10,
   "metadata": {},
   "outputs": [
    {
     "name": "stdout",
     "output_type": "stream",
     "text": [
      "<class 'pandas.core.frame.DataFrame'>\n",
      "Index: 1244 entries, 6/22/15 to 6/19/20\n",
      "Data columns (total 5 columns):\n",
      "ITSA4    1241 non-null float64\n",
      "GOAU4    1241 non-null float64\n",
      "EMBR3    1241 non-null float64\n",
      "PETR4    1241 non-null float64\n",
      "CPFE3    1241 non-null float64\n",
      "dtypes: float64(5)\n",
      "memory usage: 58.3+ KB\n"
     ]
    }
   ],
   "source": [
    "sec_data.info()"
   ]
  },
  {
   "cell_type": "code",
   "execution_count": 4,
   "metadata": {},
   "outputs": [
    {
     "data": {
      "text/html": [
       "<div>\n",
       "<style scoped>\n",
       "    .dataframe tbody tr th:only-of-type {\n",
       "        vertical-align: middle;\n",
       "    }\n",
       "\n",
       "    .dataframe tbody tr th {\n",
       "        vertical-align: top;\n",
       "    }\n",
       "\n",
       "    .dataframe thead th {\n",
       "        text-align: right;\n",
       "    }\n",
       "</style>\n",
       "<table border=\"1\" class=\"dataframe\">\n",
       "  <thead>\n",
       "    <tr style=\"text-align: right;\">\n",
       "      <th></th>\n",
       "      <th>ITSA4</th>\n",
       "      <th>GOAU4</th>\n",
       "      <th>EMBR3</th>\n",
       "      <th>PETR4</th>\n",
       "      <th>CPFE3</th>\n",
       "    </tr>\n",
       "    <tr>\n",
       "      <th>Date</th>\n",
       "      <th></th>\n",
       "      <th></th>\n",
       "      <th></th>\n",
       "      <th></th>\n",
       "      <th></th>\n",
       "    </tr>\n",
       "  </thead>\n",
       "  <tbody>\n",
       "    <tr>\n",
       "      <td>6/22/15</td>\n",
       "      <td>5.233504</td>\n",
       "      <td>6.552751</td>\n",
       "      <td>23.188370</td>\n",
       "      <td>12.218085</td>\n",
       "      <td>17.112970</td>\n",
       "    </tr>\n",
       "    <tr>\n",
       "      <td>6/23/15</td>\n",
       "      <td>5.233504</td>\n",
       "      <td>6.468259</td>\n",
       "      <td>23.043196</td>\n",
       "      <td>12.032542</td>\n",
       "      <td>16.955807</td>\n",
       "    </tr>\n",
       "    <tr>\n",
       "      <td>6/24/15</td>\n",
       "      <td>5.221835</td>\n",
       "      <td>6.271112</td>\n",
       "      <td>22.694790</td>\n",
       "      <td>12.264473</td>\n",
       "      <td>16.789963</td>\n",
       "    </tr>\n",
       "    <tr>\n",
       "      <td>6/25/15</td>\n",
       "      <td>5.134320</td>\n",
       "      <td>6.196010</td>\n",
       "      <td>22.646400</td>\n",
       "      <td>11.689284</td>\n",
       "      <td>16.274797</td>\n",
       "    </tr>\n",
       "    <tr>\n",
       "      <td>6/26/15</td>\n",
       "      <td>5.245173</td>\n",
       "      <td>6.318053</td>\n",
       "      <td>23.178694</td>\n",
       "      <td>12.255195</td>\n",
       "      <td>16.973259</td>\n",
       "    </tr>\n",
       "  </tbody>\n",
       "</table>\n",
       "</div>"
      ],
      "text/plain": [
       "            ITSA4     GOAU4      EMBR3      PETR4      CPFE3\n",
       "Date                                                        \n",
       "6/22/15  5.233504  6.552751  23.188370  12.218085  17.112970\n",
       "6/23/15  5.233504  6.468259  23.043196  12.032542  16.955807\n",
       "6/24/15  5.221835  6.271112  22.694790  12.264473  16.789963\n",
       "6/25/15  5.134320  6.196010  22.646400  11.689284  16.274797\n",
       "6/26/15  5.245173  6.318053  23.178694  12.255195  16.973259"
      ]
     },
     "execution_count": 4,
     "metadata": {},
     "output_type": "execute_result"
    }
   ],
   "source": [
    "pfolio_data.head()"
   ]
  },
  {
   "cell_type": "code",
   "execution_count": 11,
   "metadata": {},
   "outputs": [
    {
     "data": {
      "text/html": [
       "<div>\n",
       "<style scoped>\n",
       "    .dataframe tbody tr th:only-of-type {\n",
       "        vertical-align: middle;\n",
       "    }\n",
       "\n",
       "    .dataframe tbody tr th {\n",
       "        vertical-align: top;\n",
       "    }\n",
       "\n",
       "    .dataframe thead th {\n",
       "        text-align: right;\n",
       "    }\n",
       "</style>\n",
       "<table border=\"1\" class=\"dataframe\">\n",
       "  <thead>\n",
       "    <tr style=\"text-align: right;\">\n",
       "      <th></th>\n",
       "      <th>ITSA4</th>\n",
       "      <th>GOAU4</th>\n",
       "      <th>EMBR3</th>\n",
       "      <th>PETR4</th>\n",
       "      <th>CPFE3</th>\n",
       "    </tr>\n",
       "    <tr>\n",
       "      <th>Date</th>\n",
       "      <th></th>\n",
       "      <th></th>\n",
       "      <th></th>\n",
       "      <th></th>\n",
       "      <th></th>\n",
       "    </tr>\n",
       "  </thead>\n",
       "  <tbody>\n",
       "    <tr>\n",
       "      <td>6/15/20</td>\n",
       "      <td>9.56</td>\n",
       "      <td>6.42</td>\n",
       "      <td>8.58</td>\n",
       "      <td>20.700001</td>\n",
       "      <td>31.600000</td>\n",
       "    </tr>\n",
       "    <tr>\n",
       "      <td>6/16/20</td>\n",
       "      <td>9.76</td>\n",
       "      <td>6.89</td>\n",
       "      <td>9.05</td>\n",
       "      <td>21.370001</td>\n",
       "      <td>31.170000</td>\n",
       "    </tr>\n",
       "    <tr>\n",
       "      <td>6/17/20</td>\n",
       "      <td>9.93</td>\n",
       "      <td>6.85</td>\n",
       "      <td>8.95</td>\n",
       "      <td>21.440001</td>\n",
       "      <td>31.959999</td>\n",
       "    </tr>\n",
       "    <tr>\n",
       "      <td>6/18/20</td>\n",
       "      <td>10.25</td>\n",
       "      <td>7.02</td>\n",
       "      <td>8.87</td>\n",
       "      <td>21.600000</td>\n",
       "      <td>31.690001</td>\n",
       "    </tr>\n",
       "    <tr>\n",
       "      <td>6/19/20</td>\n",
       "      <td>10.41</td>\n",
       "      <td>7.06</td>\n",
       "      <td>8.76</td>\n",
       "      <td>21.469999</td>\n",
       "      <td>32.180000</td>\n",
       "    </tr>\n",
       "  </tbody>\n",
       "</table>\n",
       "</div>"
      ],
      "text/plain": [
       "         ITSA4  GOAU4  EMBR3      PETR4      CPFE3\n",
       "Date                                              \n",
       "6/15/20   9.56   6.42   8.58  20.700001  31.600000\n",
       "6/16/20   9.76   6.89   9.05  21.370001  31.170000\n",
       "6/17/20   9.93   6.85   8.95  21.440001  31.959999\n",
       "6/18/20  10.25   7.02   8.87  21.600000  31.690001\n",
       "6/19/20  10.41   7.06   8.76  21.469999  32.180000"
      ]
     },
     "execution_count": 11,
     "metadata": {},
     "output_type": "execute_result"
    }
   ],
   "source": [
    "sec_data.tail()"
   ]
  },
  {
   "cell_type": "code",
   "execution_count": 12,
   "metadata": {},
   "outputs": [],
   "source": [
    "sec_returns = np.log(pfolio_data / pfolio_data.shift(1))"
   ]
  },
  {
   "cell_type": "code",
   "execution_count": 13,
   "metadata": {},
   "outputs": [
    {
     "data": {
      "text/html": [
       "<div>\n",
       "<style scoped>\n",
       "    .dataframe tbody tr th:only-of-type {\n",
       "        vertical-align: middle;\n",
       "    }\n",
       "\n",
       "    .dataframe tbody tr th {\n",
       "        vertical-align: top;\n",
       "    }\n",
       "\n",
       "    .dataframe thead th {\n",
       "        text-align: right;\n",
       "    }\n",
       "</style>\n",
       "<table border=\"1\" class=\"dataframe\">\n",
       "  <thead>\n",
       "    <tr style=\"text-align: right;\">\n",
       "      <th></th>\n",
       "      <th>ITSA4</th>\n",
       "      <th>GOAU4</th>\n",
       "      <th>EMBR3</th>\n",
       "      <th>PETR4</th>\n",
       "      <th>CPFE3</th>\n",
       "    </tr>\n",
       "    <tr>\n",
       "      <th>Date</th>\n",
       "      <th></th>\n",
       "      <th></th>\n",
       "      <th></th>\n",
       "      <th></th>\n",
       "      <th></th>\n",
       "    </tr>\n",
       "  </thead>\n",
       "  <tbody>\n",
       "    <tr>\n",
       "      <td>6/22/15</td>\n",
       "      <td>NaN</td>\n",
       "      <td>NaN</td>\n",
       "      <td>NaN</td>\n",
       "      <td>NaN</td>\n",
       "      <td>NaN</td>\n",
       "    </tr>\n",
       "    <tr>\n",
       "      <td>6/23/15</td>\n",
       "      <td>0.000000</td>\n",
       "      <td>-0.012978</td>\n",
       "      <td>-0.006280</td>\n",
       "      <td>-0.015302</td>\n",
       "      <td>-0.009226</td>\n",
       "    </tr>\n",
       "    <tr>\n",
       "      <td>6/24/15</td>\n",
       "      <td>-0.002232</td>\n",
       "      <td>-0.030953</td>\n",
       "      <td>-0.015235</td>\n",
       "      <td>0.019092</td>\n",
       "      <td>-0.009829</td>\n",
       "    </tr>\n",
       "    <tr>\n",
       "      <td>6/25/15</td>\n",
       "      <td>-0.016901</td>\n",
       "      <td>-0.012048</td>\n",
       "      <td>-0.002134</td>\n",
       "      <td>-0.048034</td>\n",
       "      <td>-0.031164</td>\n",
       "    </tr>\n",
       "    <tr>\n",
       "      <td>6/26/15</td>\n",
       "      <td>0.021361</td>\n",
       "      <td>0.019506</td>\n",
       "      <td>0.023233</td>\n",
       "      <td>0.047277</td>\n",
       "      <td>0.042021</td>\n",
       "    </tr>\n",
       "  </tbody>\n",
       "</table>\n",
       "</div>"
      ],
      "text/plain": [
       "            ITSA4     GOAU4     EMBR3     PETR4     CPFE3\n",
       "Date                                                     \n",
       "6/22/15       NaN       NaN       NaN       NaN       NaN\n",
       "6/23/15  0.000000 -0.012978 -0.006280 -0.015302 -0.009226\n",
       "6/24/15 -0.002232 -0.030953 -0.015235  0.019092 -0.009829\n",
       "6/25/15 -0.016901 -0.012048 -0.002134 -0.048034 -0.031164\n",
       "6/26/15  0.021361  0.019506  0.023233  0.047277  0.042021"
      ]
     },
     "execution_count": 13,
     "metadata": {},
     "output_type": "execute_result"
    }
   ],
   "source": [
    "sec_returns.head()"
   ]
  },
  {
   "cell_type": "code",
   "execution_count": 14,
   "metadata": {},
   "outputs": [
    {
     "data": {
      "text/plain": [
       "0.14746028354745067"
      ]
     },
     "execution_count": 14,
     "metadata": {},
     "output_type": "execute_result"
    }
   ],
   "source": [
    "sec_returns['ITSA4'].mean() * 250"
   ]
  },
  {
   "cell_type": "code",
   "execution_count": 15,
   "metadata": {},
   "outputs": [
    {
     "data": {
      "text/plain": [
       "0.3251006685235298"
      ]
     },
     "execution_count": 15,
     "metadata": {},
     "output_type": "execute_result"
    }
   ],
   "source": [
    "sec_returns['ITSA4'].std() * 250 ** 0.5"
   ]
  },
  {
   "cell_type": "code",
   "execution_count": 16,
   "metadata": {},
   "outputs": [
    {
     "data": {
      "text/plain": [
       "0.03297915342814497"
      ]
     },
     "execution_count": 16,
     "metadata": {},
     "output_type": "execute_result"
    }
   ],
   "source": [
    "sec_returns['GOAU4'].mean() * 250"
   ]
  },
  {
   "cell_type": "code",
   "execution_count": 17,
   "metadata": {},
   "outputs": [
    {
     "data": {
      "text/plain": [
       "0.5986733912527905"
      ]
     },
     "execution_count": 17,
     "metadata": {},
     "output_type": "execute_result"
    }
   ],
   "source": [
    "sec_returns['GOAU4'].std() * 250 ** 0.5"
   ]
  },
  {
   "cell_type": "code",
   "execution_count": 18,
   "metadata": {},
   "outputs": [
    {
     "data": {
      "text/plain": [
       "-0.1765135710587176"
      ]
     },
     "execution_count": 18,
     "metadata": {},
     "output_type": "execute_result"
    }
   ],
   "source": [
    "sec_returns['EMBR3'].mean() * 250"
   ]
  },
  {
   "cell_type": "code",
   "execution_count": 19,
   "metadata": {},
   "outputs": [
    {
     "data": {
      "text/plain": [
       "0.4439225654164657"
      ]
     },
     "execution_count": 19,
     "metadata": {},
     "output_type": "execute_result"
    }
   ],
   "source": [
    "sec_returns['EMBR3'].std() * 250 ** 0.5"
   ]
  },
  {
   "cell_type": "code",
   "execution_count": 20,
   "metadata": {},
   "outputs": [
    {
     "data": {
      "text/plain": [
       "0.13529009164292644"
      ]
     },
     "execution_count": 20,
     "metadata": {},
     "output_type": "execute_result"
    }
   ],
   "source": [
    "sec_returns['PETR4'].mean() * 250"
   ]
  },
  {
   "cell_type": "code",
   "execution_count": 21,
   "metadata": {},
   "outputs": [
    {
     "data": {
      "text/plain": [
       "0.5459545250314944"
      ]
     },
     "execution_count": 21,
     "metadata": {},
     "output_type": "execute_result"
    }
   ],
   "source": [
    "sec_returns['PETR4'].std() * 250 ** 0.5"
   ]
  },
  {
   "cell_type": "code",
   "execution_count": 22,
   "metadata": {},
   "outputs": [
    {
     "data": {
      "text/plain": [
       "0.14000905915502654"
      ]
     },
     "execution_count": 22,
     "metadata": {},
     "output_type": "execute_result"
    }
   ],
   "source": [
    "sec_returns['CPFE3'].mean() * 250"
   ]
  },
  {
   "cell_type": "code",
   "execution_count": 23,
   "metadata": {},
   "outputs": [
    {
     "data": {
      "text/plain": [
       "0.2916441206420419"
      ]
     },
     "execution_count": 23,
     "metadata": {},
     "output_type": "execute_result"
    }
   ],
   "source": [
    "sec_returns['CPFE3'].std() * 250 ** 0.5"
   ]
  },
  {
   "cell_type": "markdown",
   "metadata": {},
   "source": [
    "# on the next lines of code we calculate Portfolio Variance with equal weights."
   ]
  },
  {
   "cell_type": "code",
   "execution_count": 24,
   "metadata": {},
   "outputs": [],
   "source": [
    "weights = np.array([0.2, 0.2, 0.2, 0.2, 0.2])"
   ]
  },
  {
   "cell_type": "code",
   "execution_count": 25,
   "metadata": {},
   "outputs": [
    {
     "data": {
      "text/plain": [
       "0.1063705804032191"
      ]
     },
     "execution_count": 25,
     "metadata": {},
     "output_type": "execute_result"
    }
   ],
   "source": [
    "pfolio_var = np.dot(weights.T, np.dot(sec_returns.cov() * 250, weights))\n",
    "\n",
    "pfolio_var"
   ]
  },
  {
   "cell_type": "code",
   "execution_count": 26,
   "metadata": {},
   "outputs": [
    {
     "data": {
      "text/plain": [
       "0.05318529020160955"
      ]
     },
     "execution_count": 26,
     "metadata": {},
     "output_type": "execute_result"
    }
   ],
   "source": [
    "pfolio_vol = (np.dot(weights.T, np.dot(sec_returns.cov() * 250, weights))) * 0.5\n",
    "\n",
    "pfolio_vol"
   ]
  },
  {
   "cell_type": "code",
   "execution_count": 27,
   "metadata": {},
   "outputs": [
    {
     "name": "stdout",
     "output_type": "stream",
     "text": [
      "5.319 %\n"
     ]
    }
   ],
   "source": [
    "print (str(round(pfolio_vol, 5) * 100) + ' %')"
   ]
  },
  {
   "cell_type": "markdown",
   "metadata": {},
   "source": [
    "# on the next lines of code, we calculate the diversifiable risk:"
   ]
  },
  {
   "cell_type": "code",
   "execution_count": 57,
   "metadata": {},
   "outputs": [],
   "source": [
    "weights = np.array([0.2, 0.2, 0.2, 0.2, 0.2])"
   ]
  },
  {
   "cell_type": "code",
   "execution_count": 58,
   "metadata": {},
   "outputs": [
    {
     "data": {
      "text/plain": [
       "0.105690444674446"
      ]
     },
     "execution_count": 58,
     "metadata": {},
     "output_type": "execute_result"
    }
   ],
   "source": [
    "float(ITSA4_var_a)"
   ]
  },
  {
   "cell_type": "code",
   "execution_count": 59,
   "metadata": {},
   "outputs": [
    {
     "data": {
      "text/plain": [
       "0.35840982939411675"
      ]
     },
     "execution_count": 59,
     "metadata": {},
     "output_type": "execute_result"
    }
   ],
   "source": [
    "float(GOAU4_var_a)"
   ]
  },
  {
   "cell_type": "code",
   "execution_count": 60,
   "metadata": {},
   "outputs": [
    {
     "data": {
      "text/plain": [
       "0.19706724408593623"
      ]
     },
     "execution_count": 60,
     "metadata": {},
     "output_type": "execute_result"
    }
   ],
   "source": [
    "float(EMBR3_var_a)\n"
   ]
  },
  {
   "cell_type": "code",
   "execution_count": 61,
   "metadata": {},
   "outputs": [
    {
     "data": {
      "text/plain": [
       "0.2980663434023648"
      ]
     },
     "execution_count": 61,
     "metadata": {},
     "output_type": "execute_result"
    }
   ],
   "source": [
    "float(PETR4_var_a)"
   ]
  },
  {
   "cell_type": "code",
   "execution_count": 62,
   "metadata": {},
   "outputs": [
    {
     "data": {
      "text/plain": [
       "0.08505629310506994"
      ]
     },
     "execution_count": 62,
     "metadata": {},
     "output_type": "execute_result"
    }
   ],
   "source": [
    "float(CPFE3_var_a)"
   ]
  },
  {
   "cell_type": "code",
   "execution_count": 63,
   "metadata": {},
   "outputs": [
    {
     "data": {
      "text/plain": [
       "ITSA4    0.10569\n",
       "dtype: float64"
      ]
     },
     "execution_count": 63,
     "metadata": {},
     "output_type": "execute_result"
    }
   ],
   "source": [
    "ITSA4_var_a = sec_returns[['ITSA4']].var() * 250\n",
    "ITSA4_var_a"
   ]
  },
  {
   "cell_type": "code",
   "execution_count": 64,
   "metadata": {},
   "outputs": [
    {
     "data": {
      "text/plain": [
       "GOAU4    0.35841\n",
       "dtype: float64"
      ]
     },
     "execution_count": 64,
     "metadata": {},
     "output_type": "execute_result"
    }
   ],
   "source": [
    "GOAU4_var_a = sec_returns[['GOAU4']].var() * 250\n",
    "GOAU4_var_a"
   ]
  },
  {
   "cell_type": "code",
   "execution_count": 65,
   "metadata": {},
   "outputs": [
    {
     "data": {
      "text/plain": [
       "EMBR3    0.197067\n",
       "dtype: float64"
      ]
     },
     "execution_count": 65,
     "metadata": {},
     "output_type": "execute_result"
    }
   ],
   "source": [
    "EMBR3_var_a = sec_returns[['EMBR3']].var() * 250\n",
    "EMBR3_var_a"
   ]
  },
  {
   "cell_type": "code",
   "execution_count": 66,
   "metadata": {},
   "outputs": [
    {
     "data": {
      "text/plain": [
       "PETR4    0.298066\n",
       "dtype: float64"
      ]
     },
     "execution_count": 66,
     "metadata": {},
     "output_type": "execute_result"
    }
   ],
   "source": [
    "PETR4_var_a = sec_returns[['PETR4']].var() * 250\n",
    "PETR4_var_a"
   ]
  },
  {
   "cell_type": "code",
   "execution_count": 67,
   "metadata": {},
   "outputs": [
    {
     "data": {
      "text/plain": [
       "CPFE3    0.085056\n",
       "dtype: float64"
      ]
     },
     "execution_count": 67,
     "metadata": {},
     "output_type": "execute_result"
    }
   ],
   "source": [
    "CPFE3_var_a = sec_returns[['CPFE3']].var() * 250\n",
    "CPFE3_var_a"
   ]
  },
  {
   "cell_type": "code",
   "execution_count": 69,
   "metadata": {},
   "outputs": [
    {
     "data": {
      "text/plain": [
       "CPFE3   NaN\n",
       "EMBR3   NaN\n",
       "GOAU4   NaN\n",
       "ITSA4   NaN\n",
       "PETR4   NaN\n",
       "dtype: float64"
      ]
     },
     "execution_count": 69,
     "metadata": {},
     "output_type": "execute_result"
    }
   ],
   "source": [
    "dr = pfolio_var - (weights[0] ** 2 * ITSA4_var_a) - (weights[1] ** 2 * GOAU4_var_a) - (weights[2] ** 2 * EMBR3_var_a) - (weights[3] ** 2 * PETR4_var_a) - (weights[4] ** 2 * CPFE3_var_a)\n",
    "dr"
   ]
  },
  {
   "cell_type": "code",
   "execution_count": 70,
   "metadata": {},
   "outputs": [
    {
     "data": {
      "text/plain": [
       "0.105690444674446"
      ]
     },
     "execution_count": 70,
     "metadata": {},
     "output_type": "execute_result"
    }
   ],
   "source": [
    "ITSA4_var_a = sec_returns['ITSA4'].var() * 250\n",
    "ITSA4_var_a"
   ]
  },
  {
   "cell_type": "code",
   "execution_count": 73,
   "metadata": {},
   "outputs": [
    {
     "data": {
      "text/plain": [
       "0.35840982939411675"
      ]
     },
     "execution_count": 73,
     "metadata": {},
     "output_type": "execute_result"
    }
   ],
   "source": [
    "GOAU4_var_a = sec_returns['GOAU4'].var() * 250\n",
    "GOAU4_var_a"
   ]
  },
  {
   "cell_type": "code",
   "execution_count": 74,
   "metadata": {},
   "outputs": [
    {
     "data": {
      "text/plain": [
       "0.19706724408593623"
      ]
     },
     "execution_count": 74,
     "metadata": {},
     "output_type": "execute_result"
    }
   ],
   "source": [
    "EMBR3_var_a = sec_returns['EMBR3'].var() * 250\n",
    "EMBR3_var_a"
   ]
  },
  {
   "cell_type": "code",
   "execution_count": 75,
   "metadata": {},
   "outputs": [
    {
     "data": {
      "text/plain": [
       "0.2980663434023648"
      ]
     },
     "execution_count": 75,
     "metadata": {},
     "output_type": "execute_result"
    }
   ],
   "source": [
    "PETR4_var_a = sec_returns['PETR4'].var() * 250\n",
    "PETR4_var_a"
   ]
  },
  {
   "cell_type": "code",
   "execution_count": 76,
   "metadata": {},
   "outputs": [
    {
     "data": {
      "text/plain": [
       "0.08505629310506994"
      ]
     },
     "execution_count": 76,
     "metadata": {},
     "output_type": "execute_result"
    }
   ],
   "source": [
    "CPFE3_var_a = sec_returns['CPFE3'].var() * 250\n",
    "CPFE3_var_a"
   ]
  },
  {
   "cell_type": "code",
   "execution_count": 80,
   "metadata": {},
   "outputs": [
    {
     "data": {
      "text/plain": [
       "0.06459897421674174"
      ]
     },
     "execution_count": 80,
     "metadata": {},
     "output_type": "execute_result"
    }
   ],
   "source": [
    "dr = pfolio_var - (weights[0] ** 2 * ITSA4_var_a) - (weights[1] ** 2 * GOAU4_var_a) - (weights[2] ** 2 * EMBR3_var_a) - (weights[3] ** 2 * PETR4_var_a) - (weights[4] ** 2 * CPFE3_var_a)\n",
    "dr"
   ]
  },
  {
   "cell_type": "code",
   "execution_count": 81,
   "metadata": {},
   "outputs": [
    {
     "name": "stdout",
     "output_type": "stream",
     "text": [
      "6.46 %\n"
     ]
    }
   ],
   "source": [
    "print (str(round(dr*100, 3)) + ' %')"
   ]
  },
  {
   "cell_type": "markdown",
   "metadata": {},
   "source": [
    "# finally, the non-diversifiable risk is calculated by subtracting the diversifiable risk from the portfolio variance."
   ]
  },
  {
   "cell_type": "code",
   "execution_count": 82,
   "metadata": {},
   "outputs": [
    {
     "data": {
      "text/plain": [
       "0.041771606186477364"
      ]
     },
     "execution_count": 82,
     "metadata": {},
     "output_type": "execute_result"
    }
   ],
   "source": [
    "n_dr_1 = pfolio_var - dr\n",
    "n_dr_1"
   ]
  },
  {
   "cell_type": "code",
   "execution_count": 85,
   "metadata": {},
   "outputs": [
    {
     "data": {
      "text/plain": [
       "0.04177160618647736"
      ]
     },
     "execution_count": 85,
     "metadata": {},
     "output_type": "execute_result"
    }
   ],
   "source": [
    "n_dr_2 = (weights[0] ** 2 * ITSA4_var_a) + (weights[1] ** 2 * GOAU4_var_a) + (weights[2] ** 2 * EMBR3_var_a) + (weights[3] ** 2 * PETR4_var_a) + (weights[4] ** 2 * CPFE3_var_a)\n",
    "n_dr_2"
   ]
  },
  {
   "cell_type": "code",
   "execution_count": 89,
   "metadata": {},
   "outputs": [
    {
     "data": {
      "text/plain": [
       "True"
      ]
     },
     "execution_count": 89,
     "metadata": {},
     "output_type": "execute_result"
    }
   ],
   "source": [
    "n_dr_1 == n_dr_2"
   ]
  }
 ],
 "metadata": {
  "kernelspec": {
   "display_name": "Python 3",
   "language": "python",
   "name": "python3"
  },
  "language_info": {
   "codemirror_mode": {
    "name": "ipython",
    "version": 3
   },
   "file_extension": ".py",
   "mimetype": "text/x-python",
   "name": "python",
   "nbconvert_exporter": "python",
   "pygments_lexer": "ipython3",
   "version": "3.7.4"
  }
 },
 "nbformat": 4,
 "nbformat_minor": 2
}
