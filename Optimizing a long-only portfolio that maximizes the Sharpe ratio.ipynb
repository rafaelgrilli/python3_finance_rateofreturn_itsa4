{
 "cells": [
  {
   "cell_type": "code",
   "execution_count": 15,
   "metadata": {},
   "outputs": [],
   "source": [
    "# with this code, using PyPortfolioOpt, I demonstrate how to find a long-only portfolio that maximises the \n",
    "# Sharpe Ratio of 12 Brazilian stocks"
   ]
  },
  {
   "cell_type": "code",
   "execution_count": 16,
   "metadata": {},
   "outputs": [
    {
     "name": "stdout",
     "output_type": "stream",
     "text": [
      "OrderedDict([('ITSA4', 0.22113), ('GOAU4', 0.07978), ('CMIG3', 0.0), ('PETR4', 0.0), ('TOTS3', 0.0), ('USIM5', 0.0), ('LAME4', 0.0), ('BBAS3', 0.0), ('CIEL3', 0.0), ('LIGT3', 0.0), ('ABEV3', 0.0), ('KLBN11', 0.0), ('VVAR3', 0.30186), ('CVCB3', 0.0), ('GOLL4', 0.09868), ('EMBR3', 0.0), ('CSNA3', 0.29855)])\n",
      "Expected annual return: 35.9%\n",
      "Annual volatility: 46.0%\n",
      "Sharpe Ratio: 0.74\n"
     ]
    },
    {
     "data": {
      "text/plain": [
       "(0.35902791818854485, 0.4604950155074461, 0.7362249465717894)"
      ]
     },
     "execution_count": 16,
     "metadata": {},
     "output_type": "execute_result"
    }
   ],
   "source": [
    "import pandas as pd\n",
    "from pypfopt import EfficientFrontier\n",
    "from pypfopt import risk_models\n",
    "from pypfopt import expected_returns\n",
    "\n",
    "# Read in price data \n",
    "df = pd.read_csv(\"br_stocks.csv\", parse_dates=True, index_col=\"Date\")\n",
    "\n",
    "# Calculate the expected returns and sample covariance\n",
    "mu = expected_returns.mean_historical_return(df)\n",
    "S = risk_models.sample_cov(df)\n",
    "\n",
    "# Optimise for maximal Sharpe ratio\n",
    "ef = EfficientFrontier(mu, S)\n",
    "raw_weights = ef.max_sharpe()\n",
    "cleaned_weights = ef.clean_weights()\n",
    "ef.save_weights_to_file(\"weights.csv\") # saves to file\n",
    "print(cleaned_weights)\n",
    "ef.portfolio_performance(verbose=True)"
   ]
  },
  {
   "cell_type": "code",
   "execution_count": 17,
   "metadata": {},
   "outputs": [
    {
     "name": "stdout",
     "output_type": "stream",
     "text": [
      "Discrete allocation: {'ITSA4': 224, 'GOAU4': 77, 'VVAR3': 149, 'GOLL4': 50, 'CSNA3': 139}\n",
      "Funds remaining: R$4.77\n"
     ]
    }
   ],
   "source": [
    "from pypfopt.discrete_allocation import DiscreteAllocation, get_latest_prices\n",
    "\n",
    "latest_prices = get_latest_prices(df)\n",
    "\n",
    "da = DiscreteAllocation(cleaned_weights, latest_prices, total_portfolio_value=10000)\n",
    "allocation, leftover = da.lp_portfolio()\n",
    "print(\"Discrete allocation:\", allocation)\n",
    "print(\"Funds remaining: R${:.2f}\".format(leftover))"
   ]
  },
  {
   "cell_type": "code",
   "execution_count": null,
   "metadata": {},
   "outputs": [],
   "source": []
  },
  {
   "cell_type": "code",
   "execution_count": null,
   "metadata": {},
   "outputs": [],
   "source": []
  }
 ],
 "metadata": {
  "kernelspec": {
   "display_name": "Python 3",
   "language": "python",
   "name": "python3"
  },
  "language_info": {
   "codemirror_mode": {
    "name": "ipython",
    "version": 3
   },
   "file_extension": ".py",
   "mimetype": "text/x-python",
   "name": "python",
   "nbconvert_exporter": "python",
   "pygments_lexer": "ipython3",
   "version": "3.7.4"
  }
 },
 "nbformat": 4,
 "nbformat_minor": 2
}
