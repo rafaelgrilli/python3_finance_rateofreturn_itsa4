{
 "cells": [
  {
   "cell_type": "markdown",
   "metadata": {},
   "source": [
    "# With this simple Python code, I will estimate the risk of a portfolio compound by 5 securities, all of them traded in Sao Paulo Stock Exchange, Brazil. I randomly picked the securities, and I assume the portfolio is equally weighted, just a theoretical proposition to run the codes that allow us to use Python in finance applications. The first thing that I have done is downloading historical data for Itausa (ticker ITSA4), Gerdau (GOAU4), Embraer (Embr3), Petrobras (PETR4), and CPFL, (CPFE3). After that, we created a repository for the downloaded data (we could have also used the online api provided by YahooFinance. I use the Anaconda Navigator, which is a pretty complete package for analysing financial or any orther type of data. The code will be written on next lines, hope it can be repplied by anyone willing to measure risk of any other portfolio of stocks.¶"
   ]
  },
  {
   "cell_type": "code",
   "execution_count": 20,
   "metadata": {},
   "outputs": [],
   "source": [
    "import numpy as np \n",
    "import pandas as pd\n",
    "from pandas_datareader import data as wb\n",
    "import matplotlib.pyplot as plt"
   ]
  },
  {
   "cell_type": "code",
   "execution_count": 2,
   "metadata": {},
   "outputs": [],
   "source": [
    "pfolio_data = pd.read_csv('Pfolio_stocks_br.csv', index_col='Date')"
   ]
  },
  {
   "cell_type": "code",
   "execution_count": 3,
   "metadata": {},
   "outputs": [
    {
     "name": "stdout",
     "output_type": "stream",
     "text": [
      "<class 'pandas.core.frame.DataFrame'>\n",
      "Index: 1244 entries, 6/22/15 to 6/19/20\n",
      "Data columns (total 5 columns):\n",
      "ITSA4    1241 non-null float64\n",
      "GOAU4    1241 non-null float64\n",
      "EMBR3    1241 non-null float64\n",
      "PETR4    1241 non-null float64\n",
      "CPFE3    1241 non-null float64\n",
      "dtypes: float64(5)\n",
      "memory usage: 58.3+ KB\n"
     ]
    }
   ],
   "source": [
    "pfolio_data.info()"
   ]
  },
  {
   "cell_type": "code",
   "execution_count": 4,
   "metadata": {},
   "outputs": [
    {
     "data": {
      "text/html": [
       "<div>\n",
       "<style scoped>\n",
       "    .dataframe tbody tr th:only-of-type {\n",
       "        vertical-align: middle;\n",
       "    }\n",
       "\n",
       "    .dataframe tbody tr th {\n",
       "        vertical-align: top;\n",
       "    }\n",
       "\n",
       "    .dataframe thead th {\n",
       "        text-align: right;\n",
       "    }\n",
       "</style>\n",
       "<table border=\"1\" class=\"dataframe\">\n",
       "  <thead>\n",
       "    <tr style=\"text-align: right;\">\n",
       "      <th></th>\n",
       "      <th>ITSA4</th>\n",
       "      <th>GOAU4</th>\n",
       "      <th>EMBR3</th>\n",
       "      <th>PETR4</th>\n",
       "      <th>CPFE3</th>\n",
       "    </tr>\n",
       "    <tr>\n",
       "      <th>Date</th>\n",
       "      <th></th>\n",
       "      <th></th>\n",
       "      <th></th>\n",
       "      <th></th>\n",
       "      <th></th>\n",
       "    </tr>\n",
       "  </thead>\n",
       "  <tbody>\n",
       "    <tr>\n",
       "      <td>6/22/15</td>\n",
       "      <td>5.233504</td>\n",
       "      <td>6.552751</td>\n",
       "      <td>23.188370</td>\n",
       "      <td>12.218085</td>\n",
       "      <td>17.112970</td>\n",
       "    </tr>\n",
       "    <tr>\n",
       "      <td>6/23/15</td>\n",
       "      <td>5.233504</td>\n",
       "      <td>6.468259</td>\n",
       "      <td>23.043196</td>\n",
       "      <td>12.032542</td>\n",
       "      <td>16.955807</td>\n",
       "    </tr>\n",
       "    <tr>\n",
       "      <td>6/24/15</td>\n",
       "      <td>5.221835</td>\n",
       "      <td>6.271112</td>\n",
       "      <td>22.694790</td>\n",
       "      <td>12.264473</td>\n",
       "      <td>16.789963</td>\n",
       "    </tr>\n",
       "    <tr>\n",
       "      <td>6/25/15</td>\n",
       "      <td>5.134320</td>\n",
       "      <td>6.196010</td>\n",
       "      <td>22.646400</td>\n",
       "      <td>11.689284</td>\n",
       "      <td>16.274797</td>\n",
       "    </tr>\n",
       "    <tr>\n",
       "      <td>6/26/15</td>\n",
       "      <td>5.245173</td>\n",
       "      <td>6.318053</td>\n",
       "      <td>23.178694</td>\n",
       "      <td>12.255195</td>\n",
       "      <td>16.973259</td>\n",
       "    </tr>\n",
       "  </tbody>\n",
       "</table>\n",
       "</div>"
      ],
      "text/plain": [
       "            ITSA4     GOAU4      EMBR3      PETR4      CPFE3\n",
       "Date                                                        \n",
       "6/22/15  5.233504  6.552751  23.188370  12.218085  17.112970\n",
       "6/23/15  5.233504  6.468259  23.043196  12.032542  16.955807\n",
       "6/24/15  5.221835  6.271112  22.694790  12.264473  16.789963\n",
       "6/25/15  5.134320  6.196010  22.646400  11.689284  16.274797\n",
       "6/26/15  5.245173  6.318053  23.178694  12.255195  16.973259"
      ]
     },
     "execution_count": 4,
     "metadata": {},
     "output_type": "execute_result"
    }
   ],
   "source": [
    "pfolio_data.head()"
   ]
  },
  {
   "cell_type": "code",
   "execution_count": 5,
   "metadata": {},
   "outputs": [
    {
     "data": {
      "text/html": [
       "<div>\n",
       "<style scoped>\n",
       "    .dataframe tbody tr th:only-of-type {\n",
       "        vertical-align: middle;\n",
       "    }\n",
       "\n",
       "    .dataframe tbody tr th {\n",
       "        vertical-align: top;\n",
       "    }\n",
       "\n",
       "    .dataframe thead th {\n",
       "        text-align: right;\n",
       "    }\n",
       "</style>\n",
       "<table border=\"1\" class=\"dataframe\">\n",
       "  <thead>\n",
       "    <tr style=\"text-align: right;\">\n",
       "      <th></th>\n",
       "      <th>ITSA4</th>\n",
       "      <th>GOAU4</th>\n",
       "      <th>EMBR3</th>\n",
       "      <th>PETR4</th>\n",
       "      <th>CPFE3</th>\n",
       "    </tr>\n",
       "    <tr>\n",
       "      <th>Date</th>\n",
       "      <th></th>\n",
       "      <th></th>\n",
       "      <th></th>\n",
       "      <th></th>\n",
       "      <th></th>\n",
       "    </tr>\n",
       "  </thead>\n",
       "  <tbody>\n",
       "    <tr>\n",
       "      <td>6/15/20</td>\n",
       "      <td>9.56</td>\n",
       "      <td>6.42</td>\n",
       "      <td>8.58</td>\n",
       "      <td>20.700001</td>\n",
       "      <td>31.600000</td>\n",
       "    </tr>\n",
       "    <tr>\n",
       "      <td>6/16/20</td>\n",
       "      <td>9.76</td>\n",
       "      <td>6.89</td>\n",
       "      <td>9.05</td>\n",
       "      <td>21.370001</td>\n",
       "      <td>31.170000</td>\n",
       "    </tr>\n",
       "    <tr>\n",
       "      <td>6/17/20</td>\n",
       "      <td>9.93</td>\n",
       "      <td>6.85</td>\n",
       "      <td>8.95</td>\n",
       "      <td>21.440001</td>\n",
       "      <td>31.959999</td>\n",
       "    </tr>\n",
       "    <tr>\n",
       "      <td>6/18/20</td>\n",
       "      <td>10.25</td>\n",
       "      <td>7.02</td>\n",
       "      <td>8.87</td>\n",
       "      <td>21.600000</td>\n",
       "      <td>31.690001</td>\n",
       "    </tr>\n",
       "    <tr>\n",
       "      <td>6/19/20</td>\n",
       "      <td>10.41</td>\n",
       "      <td>7.06</td>\n",
       "      <td>8.76</td>\n",
       "      <td>21.469999</td>\n",
       "      <td>32.180000</td>\n",
       "    </tr>\n",
       "  </tbody>\n",
       "</table>\n",
       "</div>"
      ],
      "text/plain": [
       "         ITSA4  GOAU4  EMBR3      PETR4      CPFE3\n",
       "Date                                              \n",
       "6/15/20   9.56   6.42   8.58  20.700001  31.600000\n",
       "6/16/20   9.76   6.89   9.05  21.370001  31.170000\n",
       "6/17/20   9.93   6.85   8.95  21.440001  31.959999\n",
       "6/18/20  10.25   7.02   8.87  21.600000  31.690001\n",
       "6/19/20  10.41   7.06   8.76  21.469999  32.180000"
      ]
     },
     "execution_count": 5,
     "metadata": {},
     "output_type": "execute_result"
    }
   ],
   "source": [
    "pfolio_data.tail()"
   ]
  },
  {
   "cell_type": "code",
   "execution_count": 6,
   "metadata": {},
   "outputs": [],
   "source": [
    "pfolio_returns = np.log(pfolio_data / pfolio_data.shift(1))"
   ]
  },
  {
   "cell_type": "code",
   "execution_count": 7,
   "metadata": {},
   "outputs": [
    {
     "data": {
      "text/html": [
       "<div>\n",
       "<style scoped>\n",
       "    .dataframe tbody tr th:only-of-type {\n",
       "        vertical-align: middle;\n",
       "    }\n",
       "\n",
       "    .dataframe tbody tr th {\n",
       "        vertical-align: top;\n",
       "    }\n",
       "\n",
       "    .dataframe thead th {\n",
       "        text-align: right;\n",
       "    }\n",
       "</style>\n",
       "<table border=\"1\" class=\"dataframe\">\n",
       "  <thead>\n",
       "    <tr style=\"text-align: right;\">\n",
       "      <th></th>\n",
       "      <th>ITSA4</th>\n",
       "      <th>GOAU4</th>\n",
       "      <th>EMBR3</th>\n",
       "      <th>PETR4</th>\n",
       "      <th>CPFE3</th>\n",
       "    </tr>\n",
       "    <tr>\n",
       "      <th>Date</th>\n",
       "      <th></th>\n",
       "      <th></th>\n",
       "      <th></th>\n",
       "      <th></th>\n",
       "      <th></th>\n",
       "    </tr>\n",
       "  </thead>\n",
       "  <tbody>\n",
       "    <tr>\n",
       "      <td>6/22/15</td>\n",
       "      <td>NaN</td>\n",
       "      <td>NaN</td>\n",
       "      <td>NaN</td>\n",
       "      <td>NaN</td>\n",
       "      <td>NaN</td>\n",
       "    </tr>\n",
       "    <tr>\n",
       "      <td>6/23/15</td>\n",
       "      <td>0.000000</td>\n",
       "      <td>-0.012978</td>\n",
       "      <td>-0.006280</td>\n",
       "      <td>-0.015302</td>\n",
       "      <td>-0.009226</td>\n",
       "    </tr>\n",
       "    <tr>\n",
       "      <td>6/24/15</td>\n",
       "      <td>-0.002232</td>\n",
       "      <td>-0.030953</td>\n",
       "      <td>-0.015235</td>\n",
       "      <td>0.019092</td>\n",
       "      <td>-0.009829</td>\n",
       "    </tr>\n",
       "    <tr>\n",
       "      <td>6/25/15</td>\n",
       "      <td>-0.016901</td>\n",
       "      <td>-0.012048</td>\n",
       "      <td>-0.002134</td>\n",
       "      <td>-0.048034</td>\n",
       "      <td>-0.031164</td>\n",
       "    </tr>\n",
       "    <tr>\n",
       "      <td>6/26/15</td>\n",
       "      <td>0.021361</td>\n",
       "      <td>0.019506</td>\n",
       "      <td>0.023233</td>\n",
       "      <td>0.047277</td>\n",
       "      <td>0.042021</td>\n",
       "    </tr>\n",
       "    <tr>\n",
       "      <td>...</td>\n",
       "      <td>...</td>\n",
       "      <td>...</td>\n",
       "      <td>...</td>\n",
       "      <td>...</td>\n",
       "      <td>...</td>\n",
       "    </tr>\n",
       "    <tr>\n",
       "      <td>6/15/20</td>\n",
       "      <td>-0.023774</td>\n",
       "      <td>-0.013921</td>\n",
       "      <td>-0.027588</td>\n",
       "      <td>0.004843</td>\n",
       "      <td>-0.022220</td>\n",
       "    </tr>\n",
       "    <tr>\n",
       "      <td>6/16/20</td>\n",
       "      <td>0.020705</td>\n",
       "      <td>0.070653</td>\n",
       "      <td>0.053331</td>\n",
       "      <td>0.031854</td>\n",
       "      <td>-0.013701</td>\n",
       "    </tr>\n",
       "    <tr>\n",
       "      <td>6/17/20</td>\n",
       "      <td>0.017268</td>\n",
       "      <td>-0.005822</td>\n",
       "      <td>-0.011111</td>\n",
       "      <td>0.003270</td>\n",
       "      <td>0.025029</td>\n",
       "    </tr>\n",
       "    <tr>\n",
       "      <td>6/18/20</td>\n",
       "      <td>0.031717</td>\n",
       "      <td>0.024515</td>\n",
       "      <td>-0.008979</td>\n",
       "      <td>0.007435</td>\n",
       "      <td>-0.008484</td>\n",
       "    </tr>\n",
       "    <tr>\n",
       "      <td>6/19/20</td>\n",
       "      <td>0.015489</td>\n",
       "      <td>0.005682</td>\n",
       "      <td>-0.012479</td>\n",
       "      <td>-0.006037</td>\n",
       "      <td>0.015344</td>\n",
       "    </tr>\n",
       "  </tbody>\n",
       "</table>\n",
       "<p>1244 rows × 5 columns</p>\n",
       "</div>"
      ],
      "text/plain": [
       "            ITSA4     GOAU4     EMBR3     PETR4     CPFE3\n",
       "Date                                                     \n",
       "6/22/15       NaN       NaN       NaN       NaN       NaN\n",
       "6/23/15  0.000000 -0.012978 -0.006280 -0.015302 -0.009226\n",
       "6/24/15 -0.002232 -0.030953 -0.015235  0.019092 -0.009829\n",
       "6/25/15 -0.016901 -0.012048 -0.002134 -0.048034 -0.031164\n",
       "6/26/15  0.021361  0.019506  0.023233  0.047277  0.042021\n",
       "...           ...       ...       ...       ...       ...\n",
       "6/15/20 -0.023774 -0.013921 -0.027588  0.004843 -0.022220\n",
       "6/16/20  0.020705  0.070653  0.053331  0.031854 -0.013701\n",
       "6/17/20  0.017268 -0.005822 -0.011111  0.003270  0.025029\n",
       "6/18/20  0.031717  0.024515 -0.008979  0.007435 -0.008484\n",
       "6/19/20  0.015489  0.005682 -0.012479 -0.006037  0.015344\n",
       "\n",
       "[1244 rows x 5 columns]"
      ]
     },
     "execution_count": 7,
     "metadata": {},
     "output_type": "execute_result"
    }
   ],
   "source": [
    "pfolio_returns"
   ]
  },
  {
   "cell_type": "code",
   "execution_count": 8,
   "metadata": {},
   "outputs": [
    {
     "name": "stdout",
     "output_type": "stream",
     "text": [
      "0.14746028354745067\n",
      "0.03297915342814497\n",
      "-0.1765135710587176\n",
      "0.13529009164292644\n",
      "0.14000905915502654\n"
     ]
    }
   ],
   "source": [
    "print (pfolio_returns['ITSA4'].mean() * 250)\n",
    "print (pfolio_returns['GOAU4'].mean() * 250)\n",
    "print (pfolio_returns['EMBR3'].mean() * 250)\n",
    "print (pfolio_returns['PETR4'].mean() * 250)\n",
    "print (pfolio_returns['CPFE3'].mean() * 250)"
   ]
  },
  {
   "cell_type": "code",
   "execution_count": 9,
   "metadata": {},
   "outputs": [
    {
     "data": {
      "text/plain": [
       "ITSA4    0.325101\n",
       "GOAU4    0.598673\n",
       "EMBR3    0.443923\n",
       "PETR4    0.545955\n",
       "CPFE3    0.291644\n",
       "dtype: float64"
      ]
     },
     "execution_count": 9,
     "metadata": {},
     "output_type": "execute_result"
    }
   ],
   "source": [
    "pfolio_returns[['ITSA4', 'GOAU4', 'EMBR3', 'PETR4', 'CPFE3']].std() * 250 ** 0.5"
   ]
  },
  {
   "cell_type": "markdown",
   "metadata": {},
   "source": [
    "# on the following lines of code, I calculate covariance and correlation among the stocks within the portfolio. "
   ]
  },
  {
   "cell_type": "code",
   "execution_count": 33,
   "metadata": {},
   "outputs": [
    {
     "data": {
      "text/plain": [
       "0.000422761778697784"
      ]
     },
     "execution_count": 33,
     "metadata": {},
     "output_type": "execute_result"
    }
   ],
   "source": [
    "ITSA4_var = pfolio_returns['ITSA4'].var()\n",
    "ITSA4_var"
   ]
  },
  {
   "cell_type": "code",
   "execution_count": 34,
   "metadata": {},
   "outputs": [
    {
     "data": {
      "text/plain": [
       "0.001433639317576467"
      ]
     },
     "execution_count": 34,
     "metadata": {},
     "output_type": "execute_result"
    }
   ],
   "source": [
    "GOAU4_var = pfolio_returns['GOAU4'].var()\n",
    "GOAU4_var"
   ]
  },
  {
   "cell_type": "code",
   "execution_count": 35,
   "metadata": {},
   "outputs": [
    {
     "data": {
      "text/plain": [
       "0.000788268976343745"
      ]
     },
     "execution_count": 35,
     "metadata": {},
     "output_type": "execute_result"
    }
   ],
   "source": [
    "EMBR3_var = pfolio_returns['EMBR3'].var()\n",
    "EMBR3_var"
   ]
  },
  {
   "cell_type": "code",
   "execution_count": 36,
   "metadata": {},
   "outputs": [
    {
     "data": {
      "text/plain": [
       "0.0011922653736094592"
      ]
     },
     "execution_count": 36,
     "metadata": {},
     "output_type": "execute_result"
    }
   ],
   "source": [
    "PETR4_var = pfolio_returns['PETR4'].var()\n",
    "PETR4_var"
   ]
  },
  {
   "cell_type": "code",
   "execution_count": 37,
   "metadata": {},
   "outputs": [
    {
     "data": {
      "text/plain": [
       "0.00034022517242027976"
      ]
     },
     "execution_count": 37,
     "metadata": {},
     "output_type": "execute_result"
    }
   ],
   "source": [
    "CPFE3_var = pfolio_returns['CPFE3'].var()\n",
    "CPFE3_var"
   ]
  },
  {
   "cell_type": "code",
   "execution_count": null,
   "metadata": {},
   "outputs": [],
   "source": []
  },
  {
   "cell_type": "code",
   "execution_count": 10,
   "metadata": {},
   "outputs": [
    {
     "data": {
      "text/plain": [
       "ITSA4    0.006684\n",
       "GOAU4    0.022668\n",
       "EMBR3    0.012464\n",
       "PETR4    0.018851\n",
       "CPFE3    0.005379\n",
       "dtype: float64"
      ]
     },
     "execution_count": 10,
     "metadata": {},
     "output_type": "execute_result"
    }
   ],
   "source": [
    "pfolio_returns[['ITSA4', 'GOAU4', 'EMBR3', 'PETR4', 'CPFE3']].var() * 250 ** 0.5"
   ]
  },
  {
   "cell_type": "code",
   "execution_count": 38,
   "metadata": {},
   "outputs": [
    {
     "data": {
      "text/html": [
       "<div>\n",
       "<style scoped>\n",
       "    .dataframe tbody tr th:only-of-type {\n",
       "        vertical-align: middle;\n",
       "    }\n",
       "\n",
       "    .dataframe tbody tr th {\n",
       "        vertical-align: top;\n",
       "    }\n",
       "\n",
       "    .dataframe thead th {\n",
       "        text-align: right;\n",
       "    }\n",
       "</style>\n",
       "<table border=\"1\" class=\"dataframe\">\n",
       "  <thead>\n",
       "    <tr style=\"text-align: right;\">\n",
       "      <th></th>\n",
       "      <th>ITSA4</th>\n",
       "      <th>GOAU4</th>\n",
       "      <th>EMBR3</th>\n",
       "      <th>PETR4</th>\n",
       "      <th>CPFE3</th>\n",
       "    </tr>\n",
       "  </thead>\n",
       "  <tbody>\n",
       "    <tr>\n",
       "      <td>ITSA4</td>\n",
       "      <td>0.105690</td>\n",
       "      <td>0.096560</td>\n",
       "      <td>0.051594</td>\n",
       "      <td>0.105766</td>\n",
       "      <td>0.044924</td>\n",
       "    </tr>\n",
       "    <tr>\n",
       "      <td>GOAU4</td>\n",
       "      <td>0.096560</td>\n",
       "      <td>0.358410</td>\n",
       "      <td>0.079844</td>\n",
       "      <td>0.187802</td>\n",
       "      <td>0.063500</td>\n",
       "    </tr>\n",
       "    <tr>\n",
       "      <td>EMBR3</td>\n",
       "      <td>0.051594</td>\n",
       "      <td>0.079844</td>\n",
       "      <td>0.197067</td>\n",
       "      <td>0.077758</td>\n",
       "      <td>0.034818</td>\n",
       "    </tr>\n",
       "    <tr>\n",
       "      <td>PETR4</td>\n",
       "      <td>0.105766</td>\n",
       "      <td>0.187802</td>\n",
       "      <td>0.077758</td>\n",
       "      <td>0.298066</td>\n",
       "      <td>0.064922</td>\n",
       "    </tr>\n",
       "    <tr>\n",
       "      <td>CPFE3</td>\n",
       "      <td>0.044924</td>\n",
       "      <td>0.063500</td>\n",
       "      <td>0.034818</td>\n",
       "      <td>0.064922</td>\n",
       "      <td>0.085056</td>\n",
       "    </tr>\n",
       "  </tbody>\n",
       "</table>\n",
       "</div>"
      ],
      "text/plain": [
       "          ITSA4     GOAU4     EMBR3     PETR4     CPFE3\n",
       "ITSA4  0.105690  0.096560  0.051594  0.105766  0.044924\n",
       "GOAU4  0.096560  0.358410  0.079844  0.187802  0.063500\n",
       "EMBR3  0.051594  0.079844  0.197067  0.077758  0.034818\n",
       "PETR4  0.105766  0.187802  0.077758  0.298066  0.064922\n",
       "CPFE3  0.044924  0.063500  0.034818  0.064922  0.085056"
      ]
     },
     "execution_count": 38,
     "metadata": {},
     "output_type": "execute_result"
    }
   ],
   "source": [
    "pfolio_cov_mat = pfolio_returns.cov() * 250\n",
    "\n",
    "pfolio_cov_mat"
   ]
  },
  {
   "cell_type": "markdown",
   "metadata": {},
   "source": [
    "# on the following lines of code, we estimate the portfolio variance and volatility with the assumption that assets are equally weighted. "
   ]
  },
  {
   "cell_type": "code",
   "execution_count": 41,
   "metadata": {},
   "outputs": [],
   "source": [
    "weights = np.array([0.2, 0.2, 0.2, 0.2, 0.2])"
   ]
  },
  {
   "cell_type": "code",
   "execution_count": 42,
   "metadata": {},
   "outputs": [
    {
     "data": {
      "text/plain": [
       "0.1063705804032191"
      ]
     },
     "execution_count": 42,
     "metadata": {},
     "output_type": "execute_result"
    }
   ],
   "source": [
    "pfolio_var = np.dot(weights.T, np.dot(pfolio_returns.cov() * 250, weights))\n",
    "\n",
    "pfolio_var"
   ]
  },
  {
   "cell_type": "markdown",
   "metadata": {},
   "source": [
    "# from the pfolio_var, I calculate the portfolio volatility on the next lines of code."
   ]
  },
  {
   "cell_type": "code",
   "execution_count": 43,
   "metadata": {},
   "outputs": [
    {
     "data": {
      "text/plain": [
       "0.3261450297079799"
      ]
     },
     "execution_count": 43,
     "metadata": {},
     "output_type": "execute_result"
    }
   ],
   "source": [
    "pfolio_vol = (np.dot(weights.T, np.dot(pfolio_returns.cov() * 250, weights))) ** 0.5\n",
    "\n",
    "pfolio_vol"
   ]
  },
  {
   "cell_type": "code",
   "execution_count": 44,
   "metadata": {},
   "outputs": [
    {
     "name": "stdout",
     "output_type": "stream",
     "text": [
      "32.615 %\n"
     ]
    }
   ],
   "source": [
    "print (str(round(pfolio_vol, 5) * 100) + ' %')"
   ]
  }
 ],
 "metadata": {
  "kernelspec": {
   "display_name": "Python 3",
   "language": "python",
   "name": "python3"
  },
  "language_info": {
   "codemirror_mode": {
    "name": "ipython",
    "version": 3
   },
   "file_extension": ".py",
   "mimetype": "text/x-python",
   "name": "python",
   "nbconvert_exporter": "python",
   "pygments_lexer": "ipython3",
   "version": "3.7.4"
  }
 },
 "nbformat": 4,
 "nbformat_minor": 2
}
