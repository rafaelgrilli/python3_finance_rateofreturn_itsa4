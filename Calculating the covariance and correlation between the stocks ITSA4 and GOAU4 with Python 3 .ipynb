{
 "cells": [
  {
   "cell_type": "markdown",
   "metadata": {},
   "source": [
    "# With this simple Python code, I will calculate the covariance and correlation for two stocks traded in Sao Paulo Stock Exchange, Brazil. The first thing that I have done is downloading historical data for Itausa (ticker ITSA4) and Gerdau (GOAU4). We could have also used the online api provided by YahooFinance. I use the Anaconda Navigator, which is a pretty complete package for analysing financial or any other type of data. The code will be written on next lines, hope it can be repplied by anyone willing to measure covariances and correlations of any stock or any other matter. "
   ]
  },
  {
   "cell_type": "code",
   "execution_count": 1,
   "metadata": {},
   "outputs": [],
   "source": [
    "import numpy as np\n",
    "import pandas as pd\n",
    "from pandas_datareader import data as wb\n",
    "import matplotlib.pyplot as plt"
   ]
  },
  {
   "cell_type": "code",
   "execution_count": 2,
   "metadata": {},
   "outputs": [],
   "source": [
    "stock_data = pd.read_csv('ITSA4_GOAU4.csv', index_col='Date')"
   ]
  },
  {
   "cell_type": "code",
   "execution_count": 3,
   "metadata": {},
   "outputs": [
    {
     "name": "stdout",
     "output_type": "stream",
     "text": [
      "<class 'pandas.core.frame.DataFrame'>\n",
      "Index: 1244 entries, 6/22/15 to 6/19/20\n",
      "Data columns (total 2 columns):\n",
      "ITSA4    1241 non-null float64\n",
      "GOAU4    1241 non-null float64\n",
      "dtypes: float64(2)\n",
      "memory usage: 29.2+ KB\n"
     ]
    }
   ],
   "source": [
    "stock_data.info()"
   ]
  },
  {
   "cell_type": "code",
   "execution_count": 4,
   "metadata": {},
   "outputs": [
    {
     "data": {
      "text/html": [
       "<div>\n",
       "<style scoped>\n",
       "    .dataframe tbody tr th:only-of-type {\n",
       "        vertical-align: middle;\n",
       "    }\n",
       "\n",
       "    .dataframe tbody tr th {\n",
       "        vertical-align: top;\n",
       "    }\n",
       "\n",
       "    .dataframe thead th {\n",
       "        text-align: right;\n",
       "    }\n",
       "</style>\n",
       "<table border=\"1\" class=\"dataframe\">\n",
       "  <thead>\n",
       "    <tr style=\"text-align: right;\">\n",
       "      <th></th>\n",
       "      <th>ITSA4</th>\n",
       "      <th>GOAU4</th>\n",
       "    </tr>\n",
       "    <tr>\n",
       "      <th>Date</th>\n",
       "      <th></th>\n",
       "      <th></th>\n",
       "    </tr>\n",
       "  </thead>\n",
       "  <tbody>\n",
       "    <tr>\n",
       "      <td>6/22/15</td>\n",
       "      <td>5.233504</td>\n",
       "      <td>6.552751</td>\n",
       "    </tr>\n",
       "    <tr>\n",
       "      <td>6/23/15</td>\n",
       "      <td>5.233504</td>\n",
       "      <td>6.468259</td>\n",
       "    </tr>\n",
       "    <tr>\n",
       "      <td>6/24/15</td>\n",
       "      <td>5.221835</td>\n",
       "      <td>6.271112</td>\n",
       "    </tr>\n",
       "    <tr>\n",
       "      <td>6/25/15</td>\n",
       "      <td>5.134320</td>\n",
       "      <td>6.196010</td>\n",
       "    </tr>\n",
       "    <tr>\n",
       "      <td>6/26/15</td>\n",
       "      <td>5.245173</td>\n",
       "      <td>6.318053</td>\n",
       "    </tr>\n",
       "  </tbody>\n",
       "</table>\n",
       "</div>"
      ],
      "text/plain": [
       "            ITSA4     GOAU4\n",
       "Date                       \n",
       "6/22/15  5.233504  6.552751\n",
       "6/23/15  5.233504  6.468259\n",
       "6/24/15  5.221835  6.271112\n",
       "6/25/15  5.134320  6.196010\n",
       "6/26/15  5.245173  6.318053"
      ]
     },
     "execution_count": 4,
     "metadata": {},
     "output_type": "execute_result"
    }
   ],
   "source": [
    "stock_data.head()"
   ]
  },
  {
   "cell_type": "code",
   "execution_count": 5,
   "metadata": {},
   "outputs": [
    {
     "data": {
      "text/html": [
       "<div>\n",
       "<style scoped>\n",
       "    .dataframe tbody tr th:only-of-type {\n",
       "        vertical-align: middle;\n",
       "    }\n",
       "\n",
       "    .dataframe tbody tr th {\n",
       "        vertical-align: top;\n",
       "    }\n",
       "\n",
       "    .dataframe thead th {\n",
       "        text-align: right;\n",
       "    }\n",
       "</style>\n",
       "<table border=\"1\" class=\"dataframe\">\n",
       "  <thead>\n",
       "    <tr style=\"text-align: right;\">\n",
       "      <th></th>\n",
       "      <th>ITSA4</th>\n",
       "      <th>GOAU4</th>\n",
       "    </tr>\n",
       "    <tr>\n",
       "      <th>Date</th>\n",
       "      <th></th>\n",
       "      <th></th>\n",
       "    </tr>\n",
       "  </thead>\n",
       "  <tbody>\n",
       "    <tr>\n",
       "      <td>6/15/20</td>\n",
       "      <td>9.56</td>\n",
       "      <td>6.42</td>\n",
       "    </tr>\n",
       "    <tr>\n",
       "      <td>6/16/20</td>\n",
       "      <td>9.76</td>\n",
       "      <td>6.89</td>\n",
       "    </tr>\n",
       "    <tr>\n",
       "      <td>6/17/20</td>\n",
       "      <td>9.93</td>\n",
       "      <td>6.85</td>\n",
       "    </tr>\n",
       "    <tr>\n",
       "      <td>6/18/20</td>\n",
       "      <td>10.25</td>\n",
       "      <td>7.02</td>\n",
       "    </tr>\n",
       "    <tr>\n",
       "      <td>6/19/20</td>\n",
       "      <td>10.41</td>\n",
       "      <td>7.06</td>\n",
       "    </tr>\n",
       "  </tbody>\n",
       "</table>\n",
       "</div>"
      ],
      "text/plain": [
       "         ITSA4  GOAU4\n",
       "Date                 \n",
       "6/15/20   9.56   6.42\n",
       "6/16/20   9.76   6.89\n",
       "6/17/20   9.93   6.85\n",
       "6/18/20  10.25   7.02\n",
       "6/19/20  10.41   7.06"
      ]
     },
     "execution_count": 5,
     "metadata": {},
     "output_type": "execute_result"
    }
   ],
   "source": [
    "stock_data.tail()"
   ]
  },
  {
   "cell_type": "code",
   "execution_count": 6,
   "metadata": {},
   "outputs": [
    {
     "data": {
      "text/html": [
       "<div>\n",
       "<style scoped>\n",
       "    .dataframe tbody tr th:only-of-type {\n",
       "        vertical-align: middle;\n",
       "    }\n",
       "\n",
       "    .dataframe tbody tr th {\n",
       "        vertical-align: top;\n",
       "    }\n",
       "\n",
       "    .dataframe thead th {\n",
       "        text-align: right;\n",
       "    }\n",
       "</style>\n",
       "<table border=\"1\" class=\"dataframe\">\n",
       "  <thead>\n",
       "    <tr style=\"text-align: right;\">\n",
       "      <th></th>\n",
       "      <th>ITSA4</th>\n",
       "      <th>GOAU4</th>\n",
       "    </tr>\n",
       "    <tr>\n",
       "      <th>Date</th>\n",
       "      <th></th>\n",
       "      <th></th>\n",
       "    </tr>\n",
       "  </thead>\n",
       "  <tbody>\n",
       "    <tr>\n",
       "      <td>6/22/15</td>\n",
       "      <td>NaN</td>\n",
       "      <td>NaN</td>\n",
       "    </tr>\n",
       "    <tr>\n",
       "      <td>6/23/15</td>\n",
       "      <td>0.000000</td>\n",
       "      <td>-0.012978</td>\n",
       "    </tr>\n",
       "    <tr>\n",
       "      <td>6/24/15</td>\n",
       "      <td>-0.002232</td>\n",
       "      <td>-0.030953</td>\n",
       "    </tr>\n",
       "    <tr>\n",
       "      <td>6/25/15</td>\n",
       "      <td>-0.016901</td>\n",
       "      <td>-0.012048</td>\n",
       "    </tr>\n",
       "    <tr>\n",
       "      <td>6/26/15</td>\n",
       "      <td>0.021361</td>\n",
       "      <td>0.019506</td>\n",
       "    </tr>\n",
       "  </tbody>\n",
       "</table>\n",
       "</div>"
      ],
      "text/plain": [
       "            ITSA4     GOAU4\n",
       "Date                       \n",
       "6/22/15       NaN       NaN\n",
       "6/23/15  0.000000 -0.012978\n",
       "6/24/15 -0.002232 -0.030953\n",
       "6/25/15 -0.016901 -0.012048\n",
       "6/26/15  0.021361  0.019506"
      ]
     },
     "execution_count": 6,
     "metadata": {},
     "output_type": "execute_result"
    }
   ],
   "source": [
    "stocks_returns = np.log(stock_data / stock_data.shift(1))\n",
    "\n",
    "stocks_returns.head()"
   ]
  },
  {
   "cell_type": "code",
   "execution_count": 15,
   "metadata": {},
   "outputs": [
    {
     "data": {
      "text/plain": [
       "ITSA4    0.009326\n",
       "GOAU4    0.002086\n",
       "dtype: float64"
      ]
     },
     "execution_count": 15,
     "metadata": {},
     "output_type": "execute_result"
    }
   ],
   "source": [
    "stocks_returns[['ITSA4', 'GOAU4']].mean() * 250 ** 0.5"
   ]
  },
  {
   "cell_type": "code",
   "execution_count": 16,
   "metadata": {},
   "outputs": [
    {
     "data": {
      "text/plain": [
       "ITSA4    0.325101\n",
       "GOAU4    0.598673\n",
       "dtype: float64"
      ]
     },
     "execution_count": 16,
     "metadata": {},
     "output_type": "execute_result"
    }
   ],
   "source": [
    "stocks_returns[['ITSA4', 'GOAU4']].std() * 250 ** 0.5"
   ]
  },
  {
   "cell_type": "code",
   "execution_count": 19,
   "metadata": {},
   "outputs": [
    {
     "data": {
      "text/plain": [
       "0.105690444674446"
      ]
     },
     "execution_count": 19,
     "metadata": {},
     "output_type": "execute_result"
    }
   ],
   "source": [
    "ITSA4_var_a = stocks_returns['ITSA4'].var() * 250\n",
    "\n",
    "ITSA4_var_a"
   ]
  },
  {
   "cell_type": "code",
   "execution_count": 20,
   "metadata": {
    "scrolled": true
   },
   "outputs": [
    {
     "data": {
      "text/plain": [
       "0.35840982939411675"
      ]
     },
     "execution_count": 20,
     "metadata": {},
     "output_type": "execute_result"
    }
   ],
   "source": [
    "GOAU4_var_a = stocks_returns['GOAU4'].var() * 250\n",
    "\n",
    "GOAU4_var_a"
   ]
  },
  {
   "cell_type": "code",
   "execution_count": 22,
   "metadata": {},
   "outputs": [
    {
     "data": {
      "text/html": [
       "<div>\n",
       "<style scoped>\n",
       "    .dataframe tbody tr th:only-of-type {\n",
       "        vertical-align: middle;\n",
       "    }\n",
       "\n",
       "    .dataframe tbody tr th {\n",
       "        vertical-align: top;\n",
       "    }\n",
       "\n",
       "    .dataframe thead th {\n",
       "        text-align: right;\n",
       "    }\n",
       "</style>\n",
       "<table border=\"1\" class=\"dataframe\">\n",
       "  <thead>\n",
       "    <tr style=\"text-align: right;\">\n",
       "      <th></th>\n",
       "      <th>ITSA4</th>\n",
       "      <th>GOAU4</th>\n",
       "    </tr>\n",
       "  </thead>\n",
       "  <tbody>\n",
       "    <tr>\n",
       "      <td>ITSA4</td>\n",
       "      <td>0.10569</td>\n",
       "      <td>0.09656</td>\n",
       "    </tr>\n",
       "    <tr>\n",
       "      <td>GOAU4</td>\n",
       "      <td>0.09656</td>\n",
       "      <td>0.35841</td>\n",
       "    </tr>\n",
       "  </tbody>\n",
       "</table>\n",
       "</div>"
      ],
      "text/plain": [
       "         ITSA4    GOAU4\n",
       "ITSA4  0.10569  0.09656\n",
       "GOAU4  0.09656  0.35841"
      ]
     },
     "execution_count": 22,
     "metadata": {},
     "output_type": "execute_result"
    }
   ],
   "source": [
    "cov_matrix_a = stocks_returns.cov() * 250\n",
    "\n",
    "cov_matrix_a"
   ]
  },
  {
   "cell_type": "code",
   "execution_count": 23,
   "metadata": {},
   "outputs": [
    {
     "data": {
      "text/html": [
       "<div>\n",
       "<style scoped>\n",
       "    .dataframe tbody tr th:only-of-type {\n",
       "        vertical-align: middle;\n",
       "    }\n",
       "\n",
       "    .dataframe tbody tr th {\n",
       "        vertical-align: top;\n",
       "    }\n",
       "\n",
       "    .dataframe thead th {\n",
       "        text-align: right;\n",
       "    }\n",
       "</style>\n",
       "<table border=\"1\" class=\"dataframe\">\n",
       "  <thead>\n",
       "    <tr style=\"text-align: right;\">\n",
       "      <th></th>\n",
       "      <th>ITSA4</th>\n",
       "      <th>GOAU4</th>\n",
       "    </tr>\n",
       "  </thead>\n",
       "  <tbody>\n",
       "    <tr>\n",
       "      <td>ITSA4</td>\n",
       "      <td>1.000000</td>\n",
       "      <td>0.496124</td>\n",
       "    </tr>\n",
       "    <tr>\n",
       "      <td>GOAU4</td>\n",
       "      <td>0.496124</td>\n",
       "      <td>1.000000</td>\n",
       "    </tr>\n",
       "  </tbody>\n",
       "</table>\n",
       "</div>"
      ],
      "text/plain": [
       "          ITSA4     GOAU4\n",
       "ITSA4  1.000000  0.496124\n",
       "GOAU4  0.496124  1.000000"
      ]
     },
     "execution_count": 23,
     "metadata": {},
     "output_type": "execute_result"
    }
   ],
   "source": [
    "correl_matrix = stocks_returns.corr()\n",
    "\n",
    "correl_matrix"
   ]
  }
 ],
 "metadata": {
  "kernelspec": {
   "display_name": "Python 3",
   "language": "python",
   "name": "python3"
  },
  "language_info": {
   "codemirror_mode": {
    "name": "ipython",
    "version": 3
   },
   "file_extension": ".py",
   "mimetype": "text/x-python",
   "name": "python",
   "nbconvert_exporter": "python",
   "pygments_lexer": "ipython3",
   "version": "3.7.4"
  }
 },
 "nbformat": 4,
 "nbformat_minor": 2
}
